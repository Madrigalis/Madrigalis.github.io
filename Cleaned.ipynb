{
 "cells": [
  {
   "cell_type": "markdown",
   "id": "34ae08f5",
   "metadata": {},
   "source": [
    "## Line chart  \n",
    "### No. publications per year"
   ]
  },
  {
   "cell_type": "code",
   "execution_count": 1,
   "id": "9d73fe01",
   "metadata": {},
   "outputs": [],
   "source": [
    "import pandas as pd\n",
    "import numpy as np\n",
    "#import chart_studio\n",
    "#import chart_studio.plotly as py\n",
    "#import cufflinks as cf\n",
    "import seaborn as sns\n",
    "import plotly.express as px\n",
    "#to show up everything directly in jupyter notebook\n",
    "%matplotlib inline \n",
    "\n",
    "import plotly\n",
    "import plotly.graph_objects as go\n",
    "import csv\n",
    "import pandasql\n",
    "from pandasql import sqldf"
   ]
  },
  {
   "cell_type": "code",
   "execution_count": 2,
   "id": "24884463",
   "metadata": {},
   "outputs": [
    {
     "data": {
      "text/html": [
       "        <script type=\"text/javascript\">\n",
       "        window.PlotlyConfig = {MathJaxConfig: 'local'};\n",
       "        if (window.MathJax && window.MathJax.Hub && window.MathJax.Hub.Config) {window.MathJax.Hub.Config({SVG: {font: \"STIX-Web\"}});}\n",
       "        if (typeof require !== 'undefined') {\n",
       "        require.undef(\"plotly\");\n",
       "        requirejs.config({\n",
       "            paths: {\n",
       "                'plotly': ['https://cdn.plot.ly/plotly-2.16.1.min']\n",
       "            }\n",
       "        });\n",
       "        require(['plotly'], function(Plotly) {\n",
       "            window._Plotly = Plotly;\n",
       "        });\n",
       "        }\n",
       "        </script>\n",
       "        "
      ]
     },
     "metadata": {},
     "output_type": "display_data"
    }
   ],
   "source": [
    "#if wanna make plotly work in jupyter notebook\n",
    "from plotly.offline import download_plotlyjs, init_notebook_mode, plot, iplot \n",
    "init_notebook_mode(connected=True)\n",
    "#cf.go_offline()\n"
   ]
  },
  {
   "cell_type": "code",
   "execution_count": 3,
   "id": "c4a58706",
   "metadata": {},
   "outputs": [
    {
     "data": {
      "text/html": [
       "<div>\n",
       "<style scoped>\n",
       "    .dataframe tbody tr th:only-of-type {\n",
       "        vertical-align: middle;\n",
       "    }\n",
       "\n",
       "    .dataframe tbody tr th {\n",
       "        vertical-align: top;\n",
       "    }\n",
       "\n",
       "    .dataframe thead th {\n",
       "        text-align: right;\n",
       "    }\n",
       "</style>\n",
       "<table border=\"1\" class=\"dataframe\">\n",
       "  <thead>\n",
       "    <tr style=\"text-align: right;\">\n",
       "      <th></th>\n",
       "      <th>BL record ID</th>\n",
       "      <th>Title</th>\n",
       "      <th>Standardised title</th>\n",
       "      <th>Other titles</th>\n",
       "      <th>Composer</th>\n",
       "      <th>Composer life dates</th>\n",
       "      <th>Other names</th>\n",
       "      <th>Publication date (standardised)</th>\n",
       "      <th>Country of publication</th>\n",
       "      <th>Place of publication</th>\n",
       "      <th>Publisher</th>\n",
       "      <th>Notes</th>\n",
       "      <th>Contents</th>\n",
       "      <th>Subject/genre terms</th>\n",
       "      <th>Voices</th>\n",
       "    </tr>\n",
       "    <tr>\n",
       "      <th>Column1</th>\n",
       "      <th></th>\n",
       "      <th></th>\n",
       "      <th></th>\n",
       "      <th></th>\n",
       "      <th></th>\n",
       "      <th></th>\n",
       "      <th></th>\n",
       "      <th></th>\n",
       "      <th></th>\n",
       "      <th></th>\n",
       "      <th></th>\n",
       "      <th></th>\n",
       "      <th></th>\n",
       "      <th></th>\n",
       "      <th></th>\n",
       "    </tr>\n",
       "  </thead>\n",
       "  <tbody>\n",
       "    <tr>\n",
       "      <th>1322</th>\n",
       "      <td>4532960</td>\n",
       "      <td>Di Filippo di Monte ... Il Primo Libro de Madr...</td>\n",
       "      <td>NaN</td>\n",
       "      <td>NaN</td>\n",
       "      <td>Philippe de Monte</td>\n",
       "      <td>1521-1603</td>\n",
       "      <td>NaN</td>\n",
       "      <td>1581</td>\n",
       "      <td>Italy</td>\n",
       "      <td>Venice</td>\n",
       "      <td>Angelo Gardano</td>\n",
       "      <td>NaN</td>\n",
       "      <td>NaN</td>\n",
       "      <td>NaN</td>\n",
       "      <td>5</td>\n",
       "    </tr>\n",
       "    <tr>\n",
       "      <th>1858</th>\n",
       "      <td>4630708</td>\n",
       "      <td>Di Hippolito Sabino il Quarto Libro de Madriga...</td>\n",
       "      <td>NaN</td>\n",
       "      <td>NaN</td>\n",
       "      <td>Hippolito Sabino</td>\n",
       "      <td>1550-1593</td>\n",
       "      <td>NaN</td>\n",
       "      <td>1585</td>\n",
       "      <td>Italy</td>\n",
       "      <td>Venice</td>\n",
       "      <td>Giacomo Vincenti, &amp; Ricciardo Amadino, compagni</td>\n",
       "      <td>NaN</td>\n",
       "      <td>NaN</td>\n",
       "      <td>NaN</td>\n",
       "      <td>4; 5; 6; 7; 8</td>\n",
       "    </tr>\n",
       "    <tr>\n",
       "      <th>1312</th>\n",
       "      <td>4532950</td>\n",
       "      <td>Di Filippo di Monte ... Il Nono libro de Madri...</td>\n",
       "      <td>NaN</td>\n",
       "      <td>NaN</td>\n",
       "      <td>Philippe de Monte</td>\n",
       "      <td>1521-1603</td>\n",
       "      <td>NaN</td>\n",
       "      <td>1580</td>\n",
       "      <td>Italy</td>\n",
       "      <td>Venice</td>\n",
       "      <td>l'Herede di Girolamo Scotto</td>\n",
       "      <td>Another copy of D.160.e. Quinto.]</td>\n",
       "      <td>NaN</td>\n",
       "      <td>NaN</td>\n",
       "      <td>5</td>\n",
       "    </tr>\n",
       "    <tr>\n",
       "      <th>1689</th>\n",
       "      <td>4587091</td>\n",
       "      <td>Di Francesco Portinaro il Primo Libro de Madri...</td>\n",
       "      <td>NaN</td>\n",
       "      <td>NaN</td>\n",
       "      <td>Francesco Portinaro</td>\n",
       "      <td>1520-1578</td>\n",
       "      <td>NaN</td>\n",
       "      <td>1550</td>\n",
       "      <td>Italy</td>\n",
       "      <td>Venice</td>\n",
       "      <td>Antonio Gardano</td>\n",
       "      <td>NaN</td>\n",
       "      <td>NaN</td>\n",
       "      <td>NaN</td>\n",
       "      <td>5</td>\n",
       "    </tr>\n",
       "    <tr>\n",
       "      <th>2079</th>\n",
       "      <td>4711987</td>\n",
       "      <td>Di Vincenzo Ugolini Il Secondo Libro de Madrig...</td>\n",
       "      <td>NaN</td>\n",
       "      <td>NaN</td>\n",
       "      <td>Vincenzo Ugolini</td>\n",
       "      <td>1570-1638</td>\n",
       "      <td>NaN</td>\n",
       "      <td>1615</td>\n",
       "      <td>Italy</td>\n",
       "      <td>Venice</td>\n",
       "      <td>Giacomo Vincenti</td>\n",
       "      <td>NaN</td>\n",
       "      <td>NaN</td>\n",
       "      <td>NaN</td>\n",
       "      <td>5</td>\n",
       "    </tr>\n",
       "    <tr>\n",
       "      <th>1724</th>\n",
       "      <td>4593945</td>\n",
       "      <td>Baci Ardenti. Secondo Libro de' Madrigali a Ci...</td>\n",
       "      <td>NaN</td>\n",
       "      <td>NaN</td>\n",
       "      <td>Gabriello Puliti</td>\n",
       "      <td>1583-1644</td>\n",
       "      <td>NaN</td>\n",
       "      <td>1609</td>\n",
       "      <td>Italy</td>\n",
       "      <td>Venice</td>\n",
       "      <td>Giacomo Vincenti</td>\n",
       "      <td>NaN</td>\n",
       "      <td>NaN</td>\n",
       "      <td>NaN</td>\n",
       "      <td>5</td>\n",
       "    </tr>\n",
       "    <tr>\n",
       "      <th>1816</th>\n",
       "      <td>4620615</td>\n",
       "      <td>Di Cipriano de Rore Il Primo Libro de Madrigal...</td>\n",
       "      <td>NaN</td>\n",
       "      <td>NaN</td>\n",
       "      <td>Cipriano de Rore</td>\n",
       "      <td>1515-1565</td>\n",
       "      <td>NaN</td>\n",
       "      <td>1575</td>\n",
       "      <td>Italy</td>\n",
       "      <td>Venice</td>\n",
       "      <td>Angelo Gardano</td>\n",
       "      <td>Another copy of A.70.n.(1.) Basso.]</td>\n",
       "      <td>NaN</td>\n",
       "      <td>NaN</td>\n",
       "      <td>4</td>\n",
       "    </tr>\n",
       "    <tr>\n",
       "      <th>1519</th>\n",
       "      <td>4562972</td>\n",
       "      <td>Il Primo Libro de Madrigali a Cinque Voci ... ...</td>\n",
       "      <td>NaN</td>\n",
       "      <td>NaN</td>\n",
       "      <td>Santi Orlandi</td>\n",
       "      <td>1619</td>\n",
       "      <td>NaN</td>\n",
       "      <td>1602</td>\n",
       "      <td>Italy</td>\n",
       "      <td>Venice</td>\n",
       "      <td>Angelo Gardano</td>\n",
       "      <td>This work also contains madrigals by A. del Vi...</td>\n",
       "      <td>NaN</td>\n",
       "      <td>NaN</td>\n",
       "      <td>4</td>\n",
       "    </tr>\n",
       "    <tr>\n",
       "      <th>1531</th>\n",
       "      <td>4565458</td>\n",
       "      <td>Madrigali a Quattro et a Cinque Voci. Parte co...</td>\n",
       "      <td>NaN</td>\n",
       "      <td>NaN</td>\n",
       "      <td>Pietro Pace</td>\n",
       "      <td>1559-1622</td>\n",
       "      <td>NaN</td>\n",
       "      <td>1617</td>\n",
       "      <td>Italy</td>\n",
       "      <td>Venice</td>\n",
       "      <td>Giacomo Vincenti</td>\n",
       "      <td>NaN</td>\n",
       "      <td>NaN</td>\n",
       "      <td>NaN</td>\n",
       "      <td>4; 5</td>\n",
       "    </tr>\n",
       "    <tr>\n",
       "      <th>1565</th>\n",
       "      <td>4567524</td>\n",
       "      <td>Di Benedetto Pallavicino Il Quinto Libro de' M...</td>\n",
       "      <td>NaN</td>\n",
       "      <td>NaN</td>\n",
       "      <td>Benedetto Pallavicino</td>\n",
       "      <td>1551-1601</td>\n",
       "      <td>NaN</td>\n",
       "      <td>1597</td>\n",
       "      <td>Italy</td>\n",
       "      <td>Venice</td>\n",
       "      <td>Giacomo Vincenti</td>\n",
       "      <td>NaN</td>\n",
       "      <td>NaN</td>\n",
       "      <td>NaN</td>\n",
       "      <td>5</td>\n",
       "    </tr>\n",
       "    <tr>\n",
       "      <th>869</th>\n",
       "      <td>4431676</td>\n",
       "      <td>Il Secondo Libro de Madrigali a Cinque Voci .....</td>\n",
       "      <td>Madrigals. voices (5). bk. 2</td>\n",
       "      <td>NaN</td>\n",
       "      <td>Paolo Isnardi</td>\n",
       "      <td>1536-1596</td>\n",
       "      <td>NaN</td>\n",
       "      <td>1577</td>\n",
       "      <td>Italy</td>\n",
       "      <td>Venice</td>\n",
       "      <td>Angelo Gardano</td>\n",
       "      <td>NaN</td>\n",
       "      <td>NaN</td>\n",
       "      <td>Choruses, Secular (Mixed voices, 5 parts), Una...</td>\n",
       "      <td>5</td>\n",
       "    </tr>\n",
       "    <tr>\n",
       "      <th>51</th>\n",
       "      <td>4175547</td>\n",
       "      <td>Il primo libro de madrigali a quattro voci</td>\n",
       "      <td>Madrigals. voices (4). book 1. Selections</td>\n",
       "      <td>Madrigals</td>\n",
       "      <td>Jacob Arcadelt</td>\n",
       "      <td>1505-1568</td>\n",
       "      <td>Vincenti, Giacomo [printer] ; Arcadelt, Jacob,...</td>\n",
       "      <td>1597</td>\n",
       "      <td>Italy</td>\n",
       "      <td>Venice</td>\n",
       "      <td>Giacomo Vincenti</td>\n",
       "      <td>Collection of madrigals in four parts (SATB) ;...</td>\n",
       "      <td>Il bianco e dolce cigno / Archadelt -- Voi ve ...</td>\n",
       "      <td>Madrigals, Italian</td>\n",
       "      <td>4</td>\n",
       "    </tr>\n",
       "    <tr>\n",
       "      <th>1245</th>\n",
       "      <td>4518366</td>\n",
       "      <td>Il Quinto Libro de Madrigali a Cinque Voci ......</td>\n",
       "      <td>NaN</td>\n",
       "      <td>NaN</td>\n",
       "      <td>Rinaldo del Mel</td>\n",
       "      <td>1554-1598</td>\n",
       "      <td>NaN</td>\n",
       "      <td>1594</td>\n",
       "      <td>Italy</td>\n",
       "      <td>Venice</td>\n",
       "      <td>Angelo Gardano</td>\n",
       "      <td>NaN</td>\n",
       "      <td>NaN</td>\n",
       "      <td>NaN</td>\n",
       "      <td>5</td>\n",
       "    </tr>\n",
       "    <tr>\n",
       "      <th>1298</th>\n",
       "      <td>4532936</td>\n",
       "      <td>Di M. Filippo di Monte ... Il Primo Libro dell...</td>\n",
       "      <td>NaN</td>\n",
       "      <td>NaN</td>\n",
       "      <td>Philippe de Monte</td>\n",
       "      <td>1521-1603</td>\n",
       "      <td>NaN</td>\n",
       "      <td>1570</td>\n",
       "      <td>Italy</td>\n",
       "      <td>Venice</td>\n",
       "      <td>Girolamo Scotto</td>\n",
       "      <td>NaN</td>\n",
       "      <td>NaN</td>\n",
       "      <td>NaN</td>\n",
       "      <td>5</td>\n",
       "    </tr>\n",
       "    <tr>\n",
       "      <th>1289</th>\n",
       "      <td>4532927</td>\n",
       "      <td>Di Filippo di Monte ... Il Primo Libro delli M...</td>\n",
       "      <td>NaN</td>\n",
       "      <td>NaN</td>\n",
       "      <td>Philippe de Monte</td>\n",
       "      <td>1521-1603</td>\n",
       "      <td>NaN</td>\n",
       "      <td>1574</td>\n",
       "      <td>Italy</td>\n",
       "      <td>Venice</td>\n",
       "      <td>l'Herede di Girolamo Scotto</td>\n",
       "      <td>NaN</td>\n",
       "      <td>NaN</td>\n",
       "      <td>NaN</td>\n",
       "      <td>6</td>\n",
       "    </tr>\n",
       "    <tr>\n",
       "      <th>2381</th>\n",
       "      <td>4759628</td>\n",
       "      <td>Musica Transalpina. Cantus. (Altus.) (Tenor.) ...</td>\n",
       "      <td>NaN</td>\n",
       "      <td>NaN</td>\n",
       "      <td>Nicholas Yonge</td>\n",
       "      <td>1560-1619</td>\n",
       "      <td>NaN</td>\n",
       "      <td>1588</td>\n",
       "      <td>England</td>\n",
       "      <td>London</td>\n",
       "      <td>Thomas Este</td>\n",
       "      <td>Another copy of K.3.k.19</td>\n",
       "      <td>NaN</td>\n",
       "      <td>NaN</td>\n",
       "      <td>4; 5; 6</td>\n",
       "    </tr>\n",
       "    <tr>\n",
       "      <th>1174</th>\n",
       "      <td>4507604</td>\n",
       "      <td>Di Luca Marentio il Quinto Libro de Madrigali ...</td>\n",
       "      <td>NaN</td>\n",
       "      <td>NaN</td>\n",
       "      <td>Luca Marenzio</td>\n",
       "      <td>1553-1599</td>\n",
       "      <td>NaN</td>\n",
       "      <td>1588</td>\n",
       "      <td>Italy</td>\n",
       "      <td>Venice</td>\n",
       "      <td>l'Herede di Girolamo Scotto</td>\n",
       "      <td>NaN</td>\n",
       "      <td>NaN</td>\n",
       "      <td>NaN</td>\n",
       "      <td>5</td>\n",
       "    </tr>\n",
       "    <tr>\n",
       "      <th>1387</th>\n",
       "      <td>4536525</td>\n",
       "      <td>Madrigalls to Foure Voyces newly published ......</td>\n",
       "      <td>Madrigals. voices (4). bk. 1</td>\n",
       "      <td>NaN</td>\n",
       "      <td>Thomas Morley</td>\n",
       "      <td>1557-1603</td>\n",
       "      <td>NaN</td>\n",
       "      <td>1594</td>\n",
       "      <td>England</td>\n",
       "      <td>London</td>\n",
       "      <td>Thomas Este</td>\n",
       "      <td>Another copy of K.3.i.13</td>\n",
       "      <td>NaN</td>\n",
       "      <td>NaN</td>\n",
       "      <td>4</td>\n",
       "    </tr>\n",
       "    <tr>\n",
       "      <th>422</th>\n",
       "      <td>4301291</td>\n",
       "      <td>Convivalium concentuum farrago, In welcher Deu...</td>\n",
       "      <td>NaN</td>\n",
       "      <td>NaN</td>\n",
       "      <td>Christoph Demantius</td>\n",
       "      <td>1567-1643</td>\n",
       "      <td>NaN</td>\n",
       "      <td>1609</td>\n",
       "      <td>Germany</td>\n",
       "      <td>Jena</td>\n",
       "      <td>Christoff Lippold, in verlegung David Kauffmanns</td>\n",
       "      <td>NaN</td>\n",
       "      <td>NaN</td>\n",
       "      <td>NaN</td>\n",
       "      <td>6; 8</td>\n",
       "    </tr>\n",
       "    <tr>\n",
       "      <th>1634</th>\n",
       "      <td>4574345</td>\n",
       "      <td>Del Sig. Tomaso Pecci Madrigali a Cinque Voci,...</td>\n",
       "      <td>NaN</td>\n",
       "      <td>NaN</td>\n",
       "      <td>Tomaso Pecci</td>\n",
       "      <td>1576-1606</td>\n",
       "      <td>NaN</td>\n",
       "      <td>1602</td>\n",
       "      <td>Italy</td>\n",
       "      <td>Venice</td>\n",
       "      <td>Angelo Gardano</td>\n",
       "      <td>This work contains two madrigals by M. Tantucci</td>\n",
       "      <td>NaN</td>\n",
       "      <td>NaN</td>\n",
       "      <td>5</td>\n",
       "    </tr>\n",
       "    <tr>\n",
       "      <th>1643</th>\n",
       "      <td>4577492</td>\n",
       "      <td>Il Primo Libro de' Madrigali a Due Tre e Quatt...</td>\n",
       "      <td>NaN</td>\n",
       "      <td>NaN</td>\n",
       "      <td>Martino Pesenti</td>\n",
       "      <td>1600-1648</td>\n",
       "      <td>NaN</td>\n",
       "      <td>1628</td>\n",
       "      <td>Italy</td>\n",
       "      <td>Venice</td>\n",
       "      <td>Alessandro Vincenti</td>\n",
       "      <td>NaN</td>\n",
       "      <td>NaN</td>\n",
       "      <td>NaN</td>\n",
       "      <td>2; 3; 4</td>\n",
       "    </tr>\n",
       "    <tr>\n",
       "      <th>1757</th>\n",
       "      <td>4603666</td>\n",
       "      <td>Newe Teutsche Lieder, Erstlich durch ... Jacob...</td>\n",
       "      <td>NaN</td>\n",
       "      <td>NaN</td>\n",
       "      <td>Jacob Regnart</td>\n",
       "      <td>1540-1599</td>\n",
       "      <td>Lechner, Leonhard</td>\n",
       "      <td>1579</td>\n",
       "      <td>Germany</td>\n",
       "      <td>Nuremberg</td>\n",
       "      <td>Katharina Gerlachin &amp; Johanns vom Berg Erben</td>\n",
       "      <td>NaN</td>\n",
       "      <td>NaN</td>\n",
       "      <td>NaN</td>\n",
       "      <td>3; 5</td>\n",
       "    </tr>\n",
       "    <tr>\n",
       "      <th>955</th>\n",
       "      <td>4468727</td>\n",
       "      <td>Di Orlando di Lassus il Primo Libro di Madriga...</td>\n",
       "      <td>Madrigals</td>\n",
       "      <td>NaN</td>\n",
       "      <td>Orlando di Lasso</td>\n",
       "      <td>1532-1594</td>\n",
       "      <td>NaN</td>\n",
       "      <td>1557</td>\n",
       "      <td>Italy</td>\n",
       "      <td>Venice</td>\n",
       "      <td>Antonio Gardano</td>\n",
       "      <td>NaN</td>\n",
       "      <td>NaN</td>\n",
       "      <td>NaN</td>\n",
       "      <td>5</td>\n",
       "    </tr>\n",
       "    <tr>\n",
       "      <th>2116</th>\n",
       "      <td>4715716</td>\n",
       "      <td>Tutti li madrigali del primo et del secondo li...</td>\n",
       "      <td>Madrigals. voices (4)</td>\n",
       "      <td>NaN</td>\n",
       "      <td>Philippe Verdelot</td>\n",
       "      <td>1480-1530</td>\n",
       "      <td>Jacquet, of Mantua [composer] ; Barré, Leonard...</td>\n",
       "      <td>1565</td>\n",
       "      <td>Italy</td>\n",
       "      <td>Venice</td>\n",
       "      <td>Antonio Gardano</td>\n",
       "      <td>Collection of Italian madrigals in four parts ...</td>\n",
       "      <td>Si liet’e grata morte / Verdelot -- Madonna qu...</td>\n",
       "      <td>Madrigals, Italian</td>\n",
       "      <td>4</td>\n",
       "    </tr>\n",
       "    <tr>\n",
       "      <th>2256</th>\n",
       "      <td>4738887</td>\n",
       "      <td>Di Giaches de Wert Il Primo Libro de Madrigali...</td>\n",
       "      <td>NaN</td>\n",
       "      <td>NaN</td>\n",
       "      <td>Giaches de Wert</td>\n",
       "      <td>1535-1596</td>\n",
       "      <td>NaN</td>\n",
       "      <td>1583</td>\n",
       "      <td>Italy</td>\n",
       "      <td>Venice</td>\n",
       "      <td>Angelo Gardano</td>\n",
       "      <td>NaN</td>\n",
       "      <td>NaN</td>\n",
       "      <td>NaN</td>\n",
       "      <td>5</td>\n",
       "    </tr>\n",
       "    <tr>\n",
       "      <th>1164</th>\n",
       "      <td>4507593</td>\n",
       "      <td>Di Luca Marenzio il Terzo Libro de Madrigali a...</td>\n",
       "      <td>Il terzo libro de madrigali a cinque voci</td>\n",
       "      <td>NaN</td>\n",
       "      <td>Luca Marenzio</td>\n",
       "      <td>1553-1599</td>\n",
       "      <td>NaN</td>\n",
       "      <td>1582</td>\n",
       "      <td>Italy</td>\n",
       "      <td>Venice</td>\n",
       "      <td>Angelo Gardano</td>\n",
       "      <td>Another copy of Hirsch iii .913</td>\n",
       "      <td>NaN</td>\n",
       "      <td>NaN</td>\n",
       "      <td>5</td>\n",
       "    </tr>\n",
       "    <tr>\n",
       "      <th>1992</th>\n",
       "      <td>4686537</td>\n",
       "      <td>Di Alessandro Striggio ... Il Primo libro dell...</td>\n",
       "      <td>NaN</td>\n",
       "      <td>NaN</td>\n",
       "      <td>Alessandro Striggio</td>\n",
       "      <td>1536-1592</td>\n",
       "      <td>NaN</td>\n",
       "      <td>1566</td>\n",
       "      <td>Italy</td>\n",
       "      <td>Venice</td>\n",
       "      <td>Girolamo Scotto</td>\n",
       "      <td>Another copy of C.254.c. Alto. (Tenore.) (Bass...</td>\n",
       "      <td>NaN</td>\n",
       "      <td>NaN</td>\n",
       "      <td>6</td>\n",
       "    </tr>\n",
       "    <tr>\n",
       "      <th>2264</th>\n",
       "      <td>4738897</td>\n",
       "      <td>Di Giaches de Wert Il Quinto Libro de Madrigal...</td>\n",
       "      <td>NaN</td>\n",
       "      <td>NaN</td>\n",
       "      <td>Giaches de Wert</td>\n",
       "      <td>1535-1596</td>\n",
       "      <td>NaN</td>\n",
       "      <td>1580</td>\n",
       "      <td>Italy</td>\n",
       "      <td>Venice</td>\n",
       "      <td>Angelo Gardano</td>\n",
       "      <td>NaN</td>\n",
       "      <td>NaN</td>\n",
       "      <td>NaN</td>\n",
       "      <td>5; 6; 7</td>\n",
       "    </tr>\n",
       "    <tr>\n",
       "      <th>1860</th>\n",
       "      <td>4630897</td>\n",
       "      <td>Di Dauid Sacerdote di Roure, Hebreo, Il Primo ...</td>\n",
       "      <td>NaN</td>\n",
       "      <td>NaN</td>\n",
       "      <td>David Sacerdote</td>\n",
       "      <td>1550-1625</td>\n",
       "      <td>NaN</td>\n",
       "      <td>1575</td>\n",
       "      <td>Italy</td>\n",
       "      <td>Venice</td>\n",
       "      <td>Li Figliuoli di Antonio Gardano</td>\n",
       "      <td>NaN</td>\n",
       "      <td>NaN</td>\n",
       "      <td>NaN</td>\n",
       "      <td>6</td>\n",
       "    </tr>\n",
       "    <tr>\n",
       "      <th>2078</th>\n",
       "      <td>4711986</td>\n",
       "      <td>Di Vincenzo Ugolini Il Primo Libro de Madrigal...</td>\n",
       "      <td>NaN</td>\n",
       "      <td>NaN</td>\n",
       "      <td>Vincenzo Ugolini</td>\n",
       "      <td>1570-1638</td>\n",
       "      <td>NaN</td>\n",
       "      <td>1615</td>\n",
       "      <td>Italy</td>\n",
       "      <td>Venice</td>\n",
       "      <td>Giacomo Vincenti</td>\n",
       "      <td>NaN</td>\n",
       "      <td>NaN</td>\n",
       "      <td>NaN</td>\n",
       "      <td>5</td>\n",
       "    </tr>\n",
       "    <tr>\n",
       "      <th>1673</th>\n",
       "      <td>4581985</td>\n",
       "      <td>The Second Set of Madrigals, and Pastorals, of...</td>\n",
       "      <td>Second Set of Madrigals</td>\n",
       "      <td>NaN</td>\n",
       "      <td>Francis Pilkington</td>\n",
       "      <td>1562-1638</td>\n",
       "      <td>NaN</td>\n",
       "      <td>1624</td>\n",
       "      <td>England</td>\n",
       "      <td>London</td>\n",
       "      <td>Thomas Snodham</td>\n",
       "      <td>Another copy of K.2.d.11. Bassus.]</td>\n",
       "      <td>NaN</td>\n",
       "      <td>NaN</td>\n",
       "      <td>3; 4; 5; 6</td>\n",
       "    </tr>\n",
       "    <tr>\n",
       "      <th>2271</th>\n",
       "      <td>4738905</td>\n",
       "      <td>Di Giaches de Wert Il Decimo Libro de Madrigal...</td>\n",
       "      <td>NaN</td>\n",
       "      <td>NaN</td>\n",
       "      <td>Giaches de Wert</td>\n",
       "      <td>1535-1596</td>\n",
       "      <td>NaN</td>\n",
       "      <td>1591</td>\n",
       "      <td>Italy</td>\n",
       "      <td>Venice</td>\n",
       "      <td>Angelo Gardano</td>\n",
       "      <td>NaN</td>\n",
       "      <td>NaN</td>\n",
       "      <td>NaN</td>\n",
       "      <td>5</td>\n",
       "    </tr>\n",
       "    <tr>\n",
       "      <th>1995</th>\n",
       "      <td>4686540</td>\n",
       "      <td>Il primo libro delli madrigali a sei voci</td>\n",
       "      <td>Madrigals. voices (6). book 1</td>\n",
       "      <td>Madrigals ; Alma mia fiamma oltra</td>\n",
       "      <td>Alessandro Striggio</td>\n",
       "      <td>1536-1592</td>\n",
       "      <td>Striggio, Alessandro, book 1, I dolci colli ov...</td>\n",
       "      <td>1578</td>\n",
       "      <td>Italy</td>\n",
       "      <td>Venice</td>\n",
       "      <td>l'Herede di Girolamo Scotto</td>\n",
       "      <td>Collection of madrigals in 6 parts (SATB56). L...</td>\n",
       "      <td>I Dolci colli ou'io lasciai me stesso -- (seco...</td>\n",
       "      <td>Madrigals, Italian--16th century</td>\n",
       "      <td>6</td>\n",
       "    </tr>\n",
       "    <tr>\n",
       "      <th>720</th>\n",
       "      <td>4361051</td>\n",
       "      <td>Di Ruggiero Giouannelli ... Il Primo Libro de ...</td>\n",
       "      <td>NaN</td>\n",
       "      <td>NaN</td>\n",
       "      <td>Ruggiero Giovannelli</td>\n",
       "      <td>1560-1625</td>\n",
       "      <td>NaN</td>\n",
       "      <td>1594</td>\n",
       "      <td>Italy</td>\n",
       "      <td>Venice</td>\n",
       "      <td>Angelo Gardano</td>\n",
       "      <td>NaN</td>\n",
       "      <td>NaN</td>\n",
       "      <td>NaN</td>\n",
       "      <td>5</td>\n",
       "    </tr>\n",
       "    <tr>\n",
       "      <th>239</th>\n",
       "      <td>4227912</td>\n",
       "      <td>Secondo libro delle Fiamme : madrigali a cinqu...</td>\n",
       "      <td>Fiamme. libro 2</td>\n",
       "      <td>Da' bei raggi ; Di questa biond’ &amp; vaga trecci...</td>\n",
       "      <td>Giulio Bonagiunta</td>\n",
       "      <td>1530-1571</td>\n",
       "      <td>Villabruna, Antonio [dedicatee] ; Merulo, Clau...</td>\n",
       "      <td>1567</td>\n",
       "      <td>Italy</td>\n",
       "      <td>Venice</td>\n",
       "      <td>Girolamo Scotto</td>\n",
       "      <td>Collection of madrigals and one motet (SATB5)....</td>\n",
       "      <td>Da bei raggi lucente (seconda parte: Qvindi gi...</td>\n",
       "      <td>Madrigals, Italian--16th century ; Motets</td>\n",
       "      <td>5; 6</td>\n",
       "    </tr>\n",
       "    <tr>\n",
       "      <th>719</th>\n",
       "      <td>4361050</td>\n",
       "      <td>Di Ruggiero Giouannelli ... il Primo Libro de ...</td>\n",
       "      <td>NaN</td>\n",
       "      <td>NaN</td>\n",
       "      <td>Ruggiero Giovannelli</td>\n",
       "      <td>1560-1625</td>\n",
       "      <td>NaN</td>\n",
       "      <td>1588</td>\n",
       "      <td>Italy</td>\n",
       "      <td>Venice</td>\n",
       "      <td>Angelo Gardano</td>\n",
       "      <td>NaN</td>\n",
       "      <td>NaN</td>\n",
       "      <td>NaN</td>\n",
       "      <td>5</td>\n",
       "    </tr>\n",
       "    <tr>\n",
       "      <th>1453</th>\n",
       "      <td>4551152</td>\n",
       "      <td>Di Pomponio Nenna ... Il Quarto Libro de Madri...</td>\n",
       "      <td>NaN</td>\n",
       "      <td>NaN</td>\n",
       "      <td>Pomponio Nenna</td>\n",
       "      <td>1550- 1613</td>\n",
       "      <td>NaN</td>\n",
       "      <td>1617</td>\n",
       "      <td>Italy</td>\n",
       "      <td>Venice</td>\n",
       "      <td>Bartholomeo Magni</td>\n",
       "      <td>NaN</td>\n",
       "      <td>NaN</td>\n",
       "      <td>NaN</td>\n",
       "      <td>5</td>\n",
       "    </tr>\n",
       "    <tr>\n",
       "      <th>1340</th>\n",
       "      <td>4533135</td>\n",
       "      <td>Il Terzo Libro de Madrigali a Cinque voci ... ...</td>\n",
       "      <td>Il terzo libro de madrigali</td>\n",
       "      <td>NaN</td>\n",
       "      <td>Claudio Monteverdi</td>\n",
       "      <td>1567-1643</td>\n",
       "      <td>NaN</td>\n",
       "      <td>1621</td>\n",
       "      <td>Italy</td>\n",
       "      <td>Venice</td>\n",
       "      <td>Stampa del Gardano Bartholomeo Magni</td>\n",
       "      <td>NaN</td>\n",
       "      <td>NaN</td>\n",
       "      <td>NaN</td>\n",
       "      <td>5</td>\n",
       "    </tr>\n",
       "    <tr>\n",
       "      <th>1990</th>\n",
       "      <td>4686529</td>\n",
       "      <td>Il cicalamento delle donne al bucato, et la ca...</td>\n",
       "      <td>NaN</td>\n",
       "      <td>NaN</td>\n",
       "      <td>Alessandro Striggio</td>\n",
       "      <td>1536-1592</td>\n",
       "      <td>Bonagiunta, Giulio [compiler] ; Ferro da Macer...</td>\n",
       "      <td>1567</td>\n",
       "      <td>Italy</td>\n",
       "      <td>Venice</td>\n",
       "      <td>Girolamo Scotto</td>\n",
       "      <td>Collection of two comedy madrigals and a lamen...</td>\n",
       "      <td>[Del cicalamento delle donne] (prima parte a4:...</td>\n",
       "      <td>Laments ; Madrigals, Italian</td>\n",
       "      <td>4; 5; 6; 7</td>\n",
       "    </tr>\n",
       "    <tr>\n",
       "      <th>1841</th>\n",
       "      <td>4628404</td>\n",
       "      <td>Di Vicenzo Ruffo il Primo Libro di Madregali C...</td>\n",
       "      <td>NaN</td>\n",
       "      <td>NaN</td>\n",
       "      <td>Vincenzo Ruffo</td>\n",
       "      <td>1508-1587</td>\n",
       "      <td>NaN</td>\n",
       "      <td>1556</td>\n",
       "      <td>Italy</td>\n",
       "      <td>Venice</td>\n",
       "      <td>Antonio Gardano</td>\n",
       "      <td>Another copy of A.253.a. Bassus.]</td>\n",
       "      <td>NaN</td>\n",
       "      <td>NaN</td>\n",
       "      <td>4</td>\n",
       "    </tr>\n",
       "  </tbody>\n",
       "</table>\n",
       "</div>"
      ],
      "text/plain": [
       "         BL record ID                                              Title  \\\n",
       "Column1                                                                    \n",
       "1322          4532960  Di Filippo di Monte ... Il Primo Libro de Madr...   \n",
       "1858          4630708  Di Hippolito Sabino il Quarto Libro de Madriga...   \n",
       "1312          4532950  Di Filippo di Monte ... Il Nono libro de Madri...   \n",
       "1689          4587091  Di Francesco Portinaro il Primo Libro de Madri...   \n",
       "2079          4711987  Di Vincenzo Ugolini Il Secondo Libro de Madrig...   \n",
       "1724          4593945  Baci Ardenti. Secondo Libro de' Madrigali a Ci...   \n",
       "1816          4620615  Di Cipriano de Rore Il Primo Libro de Madrigal...   \n",
       "1519          4562972  Il Primo Libro de Madrigali a Cinque Voci ... ...   \n",
       "1531          4565458  Madrigali a Quattro et a Cinque Voci. Parte co...   \n",
       "1565          4567524  Di Benedetto Pallavicino Il Quinto Libro de' M...   \n",
       "869           4431676  Il Secondo Libro de Madrigali a Cinque Voci .....   \n",
       "51            4175547         Il primo libro de madrigali a quattro voci   \n",
       "1245          4518366  Il Quinto Libro de Madrigali a Cinque Voci ......   \n",
       "1298          4532936  Di M. Filippo di Monte ... Il Primo Libro dell...   \n",
       "1289          4532927  Di Filippo di Monte ... Il Primo Libro delli M...   \n",
       "2381          4759628  Musica Transalpina. Cantus. (Altus.) (Tenor.) ...   \n",
       "1174          4507604  Di Luca Marentio il Quinto Libro de Madrigali ...   \n",
       "1387          4536525  Madrigalls to Foure Voyces newly published ......   \n",
       "422           4301291  Convivalium concentuum farrago, In welcher Deu...   \n",
       "1634          4574345  Del Sig. Tomaso Pecci Madrigali a Cinque Voci,...   \n",
       "1643          4577492  Il Primo Libro de' Madrigali a Due Tre e Quatt...   \n",
       "1757          4603666  Newe Teutsche Lieder, Erstlich durch ... Jacob...   \n",
       "955           4468727  Di Orlando di Lassus il Primo Libro di Madriga...   \n",
       "2116          4715716  Tutti li madrigali del primo et del secondo li...   \n",
       "2256          4738887  Di Giaches de Wert Il Primo Libro de Madrigali...   \n",
       "1164          4507593  Di Luca Marenzio il Terzo Libro de Madrigali a...   \n",
       "1992          4686537  Di Alessandro Striggio ... Il Primo libro dell...   \n",
       "2264          4738897  Di Giaches de Wert Il Quinto Libro de Madrigal...   \n",
       "1860          4630897  Di Dauid Sacerdote di Roure, Hebreo, Il Primo ...   \n",
       "2078          4711986  Di Vincenzo Ugolini Il Primo Libro de Madrigal...   \n",
       "1673          4581985  The Second Set of Madrigals, and Pastorals, of...   \n",
       "2271          4738905  Di Giaches de Wert Il Decimo Libro de Madrigal...   \n",
       "1995          4686540          Il primo libro delli madrigali a sei voci   \n",
       "720           4361051  Di Ruggiero Giouannelli ... Il Primo Libro de ...   \n",
       "239           4227912  Secondo libro delle Fiamme : madrigali a cinqu...   \n",
       "719           4361050  Di Ruggiero Giouannelli ... il Primo Libro de ...   \n",
       "1453          4551152  Di Pomponio Nenna ... Il Quarto Libro de Madri...   \n",
       "1340          4533135  Il Terzo Libro de Madrigali a Cinque voci ... ...   \n",
       "1990          4686529  Il cicalamento delle donne al bucato, et la ca...   \n",
       "1841          4628404  Di Vicenzo Ruffo il Primo Libro di Madregali C...   \n",
       "\n",
       "                                Standardised title  \\\n",
       "Column1                                              \n",
       "1322                                           NaN   \n",
       "1858                                           NaN   \n",
       "1312                                           NaN   \n",
       "1689                                           NaN   \n",
       "2079                                           NaN   \n",
       "1724                                           NaN   \n",
       "1816                                           NaN   \n",
       "1519                                           NaN   \n",
       "1531                                           NaN   \n",
       "1565                                           NaN   \n",
       "869                   Madrigals. voices (5). bk. 2   \n",
       "51       Madrigals. voices (4). book 1. Selections   \n",
       "1245                                           NaN   \n",
       "1298                                           NaN   \n",
       "1289                                           NaN   \n",
       "2381                                           NaN   \n",
       "1174                                           NaN   \n",
       "1387                  Madrigals. voices (4). bk. 1   \n",
       "422                                            NaN   \n",
       "1634                                           NaN   \n",
       "1643                                           NaN   \n",
       "1757                                           NaN   \n",
       "955                                      Madrigals   \n",
       "2116                         Madrigals. voices (4)   \n",
       "2256                                           NaN   \n",
       "1164     Il terzo libro de madrigali a cinque voci   \n",
       "1992                                           NaN   \n",
       "2264                                           NaN   \n",
       "1860                                           NaN   \n",
       "2078                                           NaN   \n",
       "1673                       Second Set of Madrigals   \n",
       "2271                                           NaN   \n",
       "1995                 Madrigals. voices (6). book 1   \n",
       "720                                            NaN   \n",
       "239                                Fiamme. libro 2   \n",
       "719                                            NaN   \n",
       "1453                                           NaN   \n",
       "1340                   Il terzo libro de madrigali   \n",
       "1990                                           NaN   \n",
       "1841                                           NaN   \n",
       "\n",
       "                                              Other titles  \\\n",
       "Column1                                                      \n",
       "1322                                                   NaN   \n",
       "1858                                                   NaN   \n",
       "1312                                                   NaN   \n",
       "1689                                                   NaN   \n",
       "2079                                                   NaN   \n",
       "1724                                                   NaN   \n",
       "1816                                                   NaN   \n",
       "1519                                                   NaN   \n",
       "1531                                                   NaN   \n",
       "1565                                                   NaN   \n",
       "869                                                    NaN   \n",
       "51                                               Madrigals   \n",
       "1245                                                   NaN   \n",
       "1298                                                   NaN   \n",
       "1289                                                   NaN   \n",
       "2381                                                   NaN   \n",
       "1174                                                   NaN   \n",
       "1387                                                   NaN   \n",
       "422                                                    NaN   \n",
       "1634                                                   NaN   \n",
       "1643                                                   NaN   \n",
       "1757                                                   NaN   \n",
       "955                                                    NaN   \n",
       "2116                                                   NaN   \n",
       "2256                                                   NaN   \n",
       "1164                                                   NaN   \n",
       "1992                                                   NaN   \n",
       "2264                                                   NaN   \n",
       "1860                                                   NaN   \n",
       "2078                                                   NaN   \n",
       "1673                                                   NaN   \n",
       "2271                                                   NaN   \n",
       "1995                     Madrigals ; Alma mia fiamma oltra   \n",
       "720                                                    NaN   \n",
       "239      Da' bei raggi ; Di questa biond’ & vaga trecci...   \n",
       "719                                                    NaN   \n",
       "1453                                                   NaN   \n",
       "1340                                                   NaN   \n",
       "1990                                                   NaN   \n",
       "1841                                                   NaN   \n",
       "\n",
       "                      Composer Composer life dates  \\\n",
       "Column1                                              \n",
       "1322         Philippe de Monte           1521-1603   \n",
       "1858          Hippolito Sabino           1550-1593   \n",
       "1312         Philippe de Monte           1521-1603   \n",
       "1689       Francesco Portinaro           1520-1578   \n",
       "2079          Vincenzo Ugolini           1570-1638   \n",
       "1724          Gabriello Puliti           1583-1644   \n",
       "1816          Cipriano de Rore           1515-1565   \n",
       "1519             Santi Orlandi                1619   \n",
       "1531               Pietro Pace           1559-1622   \n",
       "1565     Benedetto Pallavicino           1551-1601   \n",
       "869              Paolo Isnardi           1536-1596   \n",
       "51              Jacob Arcadelt           1505-1568   \n",
       "1245           Rinaldo del Mel           1554-1598   \n",
       "1298         Philippe de Monte           1521-1603   \n",
       "1289         Philippe de Monte           1521-1603   \n",
       "2381            Nicholas Yonge           1560-1619   \n",
       "1174             Luca Marenzio           1553-1599   \n",
       "1387             Thomas Morley           1557-1603   \n",
       "422        Christoph Demantius           1567-1643   \n",
       "1634              Tomaso Pecci           1576-1606   \n",
       "1643           Martino Pesenti           1600-1648   \n",
       "1757             Jacob Regnart           1540-1599   \n",
       "955           Orlando di Lasso           1532-1594   \n",
       "2116         Philippe Verdelot           1480-1530   \n",
       "2256           Giaches de Wert           1535-1596   \n",
       "1164             Luca Marenzio           1553-1599   \n",
       "1992       Alessandro Striggio           1536-1592   \n",
       "2264           Giaches de Wert           1535-1596   \n",
       "1860           David Sacerdote           1550-1625   \n",
       "2078          Vincenzo Ugolini           1570-1638   \n",
       "1673        Francis Pilkington           1562-1638   \n",
       "2271           Giaches de Wert           1535-1596   \n",
       "1995       Alessandro Striggio           1536-1592   \n",
       "720       Ruggiero Giovannelli           1560-1625   \n",
       "239          Giulio Bonagiunta           1530-1571   \n",
       "719       Ruggiero Giovannelli           1560-1625   \n",
       "1453            Pomponio Nenna          1550- 1613   \n",
       "1340        Claudio Monteverdi           1567-1643   \n",
       "1990       Alessandro Striggio           1536-1592   \n",
       "1841            Vincenzo Ruffo           1508-1587   \n",
       "\n",
       "                                               Other names  \\\n",
       "Column1                                                      \n",
       "1322                                                   NaN   \n",
       "1858                                                   NaN   \n",
       "1312                                                   NaN   \n",
       "1689                                                   NaN   \n",
       "2079                                                   NaN   \n",
       "1724                                                   NaN   \n",
       "1816                                                   NaN   \n",
       "1519                                                   NaN   \n",
       "1531                                                   NaN   \n",
       "1565                                                   NaN   \n",
       "869                                                    NaN   \n",
       "51       Vincenti, Giacomo [printer] ; Arcadelt, Jacob,...   \n",
       "1245                                                   NaN   \n",
       "1298                                                   NaN   \n",
       "1289                                                   NaN   \n",
       "2381                                                   NaN   \n",
       "1174                                                   NaN   \n",
       "1387                                                   NaN   \n",
       "422                                                    NaN   \n",
       "1634                                                   NaN   \n",
       "1643                                                   NaN   \n",
       "1757                                     Lechner, Leonhard   \n",
       "955                                                    NaN   \n",
       "2116     Jacquet, of Mantua [composer] ; Barré, Leonard...   \n",
       "2256                                                   NaN   \n",
       "1164                                                   NaN   \n",
       "1992                                                   NaN   \n",
       "2264                                                   NaN   \n",
       "1860                                                   NaN   \n",
       "2078                                                   NaN   \n",
       "1673                                                   NaN   \n",
       "2271                                                   NaN   \n",
       "1995     Striggio, Alessandro, book 1, I dolci colli ov...   \n",
       "720                                                    NaN   \n",
       "239      Villabruna, Antonio [dedicatee] ; Merulo, Clau...   \n",
       "719                                                    NaN   \n",
       "1453                                                   NaN   \n",
       "1340                                                   NaN   \n",
       "1990     Bonagiunta, Giulio [compiler] ; Ferro da Macer...   \n",
       "1841                                                   NaN   \n",
       "\n",
       "        Publication date (standardised) Country of publication  \\\n",
       "Column1                                                          \n",
       "1322                               1581                  Italy   \n",
       "1858                               1585                  Italy   \n",
       "1312                               1580                  Italy   \n",
       "1689                               1550                  Italy   \n",
       "2079                               1615                  Italy   \n",
       "1724                               1609                  Italy   \n",
       "1816                               1575                  Italy   \n",
       "1519                               1602                  Italy   \n",
       "1531                               1617                  Italy   \n",
       "1565                               1597                  Italy   \n",
       "869                                1577                  Italy   \n",
       "51                                 1597                  Italy   \n",
       "1245                               1594                  Italy   \n",
       "1298                               1570                  Italy   \n",
       "1289                               1574                  Italy   \n",
       "2381                               1588                England   \n",
       "1174                               1588                  Italy   \n",
       "1387                               1594                England   \n",
       "422                                1609                Germany   \n",
       "1634                               1602                  Italy   \n",
       "1643                               1628                  Italy   \n",
       "1757                               1579                Germany   \n",
       "955                                1557                  Italy   \n",
       "2116                               1565                  Italy   \n",
       "2256                               1583                  Italy   \n",
       "1164                               1582                  Italy   \n",
       "1992                               1566                  Italy   \n",
       "2264                               1580                  Italy   \n",
       "1860                               1575                  Italy   \n",
       "2078                               1615                  Italy   \n",
       "1673                               1624                England   \n",
       "2271                               1591                  Italy   \n",
       "1995                               1578                  Italy   \n",
       "720                                1594                  Italy   \n",
       "239                                1567                  Italy   \n",
       "719                                1588                  Italy   \n",
       "1453                               1617                  Italy   \n",
       "1340                               1621                  Italy   \n",
       "1990                               1567                  Italy   \n",
       "1841                               1556                  Italy   \n",
       "\n",
       "        Place of publication  \\\n",
       "Column1                        \n",
       "1322                  Venice   \n",
       "1858                  Venice   \n",
       "1312                  Venice   \n",
       "1689                  Venice   \n",
       "2079                  Venice   \n",
       "1724                  Venice   \n",
       "1816                  Venice   \n",
       "1519                  Venice   \n",
       "1531                  Venice   \n",
       "1565                  Venice   \n",
       "869                   Venice   \n",
       "51                    Venice   \n",
       "1245                  Venice   \n",
       "1298                  Venice   \n",
       "1289                  Venice   \n",
       "2381                  London   \n",
       "1174                  Venice   \n",
       "1387                  London   \n",
       "422                     Jena   \n",
       "1634                  Venice   \n",
       "1643                  Venice   \n",
       "1757               Nuremberg   \n",
       "955                   Venice   \n",
       "2116                  Venice   \n",
       "2256                  Venice   \n",
       "1164                  Venice   \n",
       "1992                  Venice   \n",
       "2264                  Venice   \n",
       "1860                  Venice   \n",
       "2078                  Venice   \n",
       "1673                  London   \n",
       "2271                  Venice   \n",
       "1995                  Venice   \n",
       "720                   Venice   \n",
       "239                   Venice   \n",
       "719                   Venice   \n",
       "1453                  Venice   \n",
       "1340                  Venice   \n",
       "1990                  Venice   \n",
       "1841                  Venice   \n",
       "\n",
       "                                                Publisher  \\\n",
       "Column1                                                     \n",
       "1322                                       Angelo Gardano   \n",
       "1858      Giacomo Vincenti, & Ricciardo Amadino, compagni   \n",
       "1312                          l'Herede di Girolamo Scotto   \n",
       "1689                                      Antonio Gardano   \n",
       "2079                                     Giacomo Vincenti   \n",
       "1724                                     Giacomo Vincenti   \n",
       "1816                                       Angelo Gardano   \n",
       "1519                                       Angelo Gardano   \n",
       "1531                                     Giacomo Vincenti   \n",
       "1565                                     Giacomo Vincenti   \n",
       "869                                        Angelo Gardano   \n",
       "51                                       Giacomo Vincenti   \n",
       "1245                                       Angelo Gardano   \n",
       "1298                                      Girolamo Scotto   \n",
       "1289                          l'Herede di Girolamo Scotto   \n",
       "2381                                          Thomas Este   \n",
       "1174                          l'Herede di Girolamo Scotto   \n",
       "1387                                          Thomas Este   \n",
       "422      Christoff Lippold, in verlegung David Kauffmanns   \n",
       "1634                                       Angelo Gardano   \n",
       "1643                                  Alessandro Vincenti   \n",
       "1757         Katharina Gerlachin & Johanns vom Berg Erben   \n",
       "955                                       Antonio Gardano   \n",
       "2116                                      Antonio Gardano   \n",
       "2256                                       Angelo Gardano   \n",
       "1164                                       Angelo Gardano   \n",
       "1992                                      Girolamo Scotto   \n",
       "2264                                       Angelo Gardano   \n",
       "1860                      Li Figliuoli di Antonio Gardano   \n",
       "2078                                     Giacomo Vincenti   \n",
       "1673                                       Thomas Snodham   \n",
       "2271                                       Angelo Gardano   \n",
       "1995                          l'Herede di Girolamo Scotto   \n",
       "720                                        Angelo Gardano   \n",
       "239                                       Girolamo Scotto   \n",
       "719                                        Angelo Gardano   \n",
       "1453                                    Bartholomeo Magni   \n",
       "1340                 Stampa del Gardano Bartholomeo Magni   \n",
       "1990                                      Girolamo Scotto   \n",
       "1841                                      Antonio Gardano   \n",
       "\n",
       "                                                     Notes  \\\n",
       "Column1                                                      \n",
       "1322                                                   NaN   \n",
       "1858                                                   NaN   \n",
       "1312                     Another copy of D.160.e. Quinto.]   \n",
       "1689                                                   NaN   \n",
       "2079                                                   NaN   \n",
       "1724                                                   NaN   \n",
       "1816                   Another copy of A.70.n.(1.) Basso.]   \n",
       "1519     This work also contains madrigals by A. del Vi...   \n",
       "1531                                                   NaN   \n",
       "1565                                                   NaN   \n",
       "869                                                    NaN   \n",
       "51       Collection of madrigals in four parts (SATB) ;...   \n",
       "1245                                                   NaN   \n",
       "1298                                                   NaN   \n",
       "1289                                                   NaN   \n",
       "2381                              Another copy of K.3.k.19   \n",
       "1174                                                   NaN   \n",
       "1387                              Another copy of K.3.i.13   \n",
       "422                                                    NaN   \n",
       "1634       This work contains two madrigals by M. Tantucci   \n",
       "1643                                                   NaN   \n",
       "1757                                                   NaN   \n",
       "955                                                    NaN   \n",
       "2116     Collection of Italian madrigals in four parts ...   \n",
       "2256                                                   NaN   \n",
       "1164                       Another copy of Hirsch iii .913   \n",
       "1992     Another copy of C.254.c. Alto. (Tenore.) (Bass...   \n",
       "2264                                                   NaN   \n",
       "1860                                                   NaN   \n",
       "2078                                                   NaN   \n",
       "1673                    Another copy of K.2.d.11. Bassus.]   \n",
       "2271                                                   NaN   \n",
       "1995     Collection of madrigals in 6 parts (SATB56). L...   \n",
       "720                                                    NaN   \n",
       "239      Collection of madrigals and one motet (SATB5)....   \n",
       "719                                                    NaN   \n",
       "1453                                                   NaN   \n",
       "1340                                                   NaN   \n",
       "1990     Collection of two comedy madrigals and a lamen...   \n",
       "1841                     Another copy of A.253.a. Bassus.]   \n",
       "\n",
       "                                                  Contents  \\\n",
       "Column1                                                      \n",
       "1322                                                   NaN   \n",
       "1858                                                   NaN   \n",
       "1312                                                   NaN   \n",
       "1689                                                   NaN   \n",
       "2079                                                   NaN   \n",
       "1724                                                   NaN   \n",
       "1816                                                   NaN   \n",
       "1519                                                   NaN   \n",
       "1531                                                   NaN   \n",
       "1565                                                   NaN   \n",
       "869                                                    NaN   \n",
       "51       Il bianco e dolce cigno / Archadelt -- Voi ve ...   \n",
       "1245                                                   NaN   \n",
       "1298                                                   NaN   \n",
       "1289                                                   NaN   \n",
       "2381                                                   NaN   \n",
       "1174                                                   NaN   \n",
       "1387                                                   NaN   \n",
       "422                                                    NaN   \n",
       "1634                                                   NaN   \n",
       "1643                                                   NaN   \n",
       "1757                                                   NaN   \n",
       "955                                                    NaN   \n",
       "2116     Si liet’e grata morte / Verdelot -- Madonna qu...   \n",
       "2256                                                   NaN   \n",
       "1164                                                   NaN   \n",
       "1992                                                   NaN   \n",
       "2264                                                   NaN   \n",
       "1860                                                   NaN   \n",
       "2078                                                   NaN   \n",
       "1673                                                   NaN   \n",
       "2271                                                   NaN   \n",
       "1995     I Dolci colli ou'io lasciai me stesso -- (seco...   \n",
       "720                                                    NaN   \n",
       "239      Da bei raggi lucente (seconda parte: Qvindi gi...   \n",
       "719                                                    NaN   \n",
       "1453                                                   NaN   \n",
       "1340                                                   NaN   \n",
       "1990     [Del cicalamento delle donne] (prima parte a4:...   \n",
       "1841                                                   NaN   \n",
       "\n",
       "                                       Subject/genre terms         Voices  \n",
       "Column1                                                                    \n",
       "1322                                                   NaN              5  \n",
       "1858                                                   NaN  4; 5; 6; 7; 8  \n",
       "1312                                                   NaN              5  \n",
       "1689                                                   NaN              5  \n",
       "2079                                                   NaN              5  \n",
       "1724                                                   NaN              5  \n",
       "1816                                                   NaN              4  \n",
       "1519                                                   NaN              4  \n",
       "1531                                                   NaN           4; 5  \n",
       "1565                                                   NaN              5  \n",
       "869      Choruses, Secular (Mixed voices, 5 parts), Una...              5  \n",
       "51                                      Madrigals, Italian              4  \n",
       "1245                                                   NaN              5  \n",
       "1298                                                   NaN              5  \n",
       "1289                                                   NaN              6  \n",
       "2381                                                   NaN        4; 5; 6  \n",
       "1174                                                   NaN              5  \n",
       "1387                                                   NaN              4  \n",
       "422                                                    NaN           6; 8  \n",
       "1634                                                   NaN              5  \n",
       "1643                                                   NaN        2; 3; 4  \n",
       "1757                                                   NaN           3; 5  \n",
       "955                                                    NaN              5  \n",
       "2116                                    Madrigals, Italian              4  \n",
       "2256                                                   NaN              5  \n",
       "1164                                                   NaN              5  \n",
       "1992                                                   NaN              6  \n",
       "2264                                                   NaN        5; 6; 7  \n",
       "1860                                                   NaN              6  \n",
       "2078                                                   NaN              5  \n",
       "1673                                                   NaN     3; 4; 5; 6  \n",
       "2271                                                   NaN              5  \n",
       "1995                      Madrigals, Italian--16th century              6  \n",
       "720                                                    NaN              5  \n",
       "239              Madrigals, Italian--16th century ; Motets           5; 6  \n",
       "719                                                    NaN              5  \n",
       "1453                                                   NaN              5  \n",
       "1340                                                   NaN              5  \n",
       "1990                          Laments ; Madrigals, Italian     4; 5; 6; 7  \n",
       "1841                                                   NaN              4  "
      ]
     },
     "execution_count": 3,
     "metadata": {},
     "output_type": "execute_result"
    }
   ],
   "source": [
    "data = pd.read_csv(\"C:/UNI/DHDK/EPDS/Proj/sample_publishers.csv\", index_col='Column1', parse_dates=['Composer life dates', 'Publication date (standardised)'])\n",
    "data"
   ]
  },
  {
   "cell_type": "code",
   "execution_count": 4,
   "id": "0c130286",
   "metadata": {},
   "outputs": [],
   "source": [
    "# replacing blank spaces with '_' \n",
    "# so that it is possible to query the dataframe with pandas .query() method\n",
    "data.columns =[column.replace(\" \", \"_\") for column in data.columns]"
   ]
  },
  {
   "cell_type": "code",
   "execution_count": 5,
   "id": "e3132eeb",
   "metadata": {},
   "outputs": [
    {
     "name": "stdout",
     "output_type": "stream",
     "text": [
      "1550\n"
     ]
    }
   ],
   "source": [
    "# get earliest pubblication date\n",
    "st = data.sort_values(by=['Publication_date_(standardised)'])\n",
    "\n",
    "# start timespan \n",
    "s = st['Publication_date_(standardised)'].loc[st.index[0]]\n",
    "print(s)\n",
    "s2 = int(s)\n",
    "\n",
    "# end timespan\n",
    "e = 1678"
   ]
  },
  {
   "cell_type": "code",
   "execution_count": 6,
   "id": "263a0df8",
   "metadata": {},
   "outputs": [
    {
     "data": {
      "text/plain": [
       "['1550',\n",
       " '1556',\n",
       " '1557',\n",
       " '1565',\n",
       " '1566',\n",
       " '1567',\n",
       " '1567',\n",
       " '1570',\n",
       " '1574',\n",
       " '1575',\n",
       " '1575',\n",
       " '1577',\n",
       " '1578',\n",
       " '1579',\n",
       " '1580',\n",
       " '1580',\n",
       " '1581',\n",
       " '1582',\n",
       " '1583',\n",
       " '1585',\n",
       " '1588',\n",
       " '1588',\n",
       " '1588',\n",
       " '1591',\n",
       " '1594',\n",
       " '1594',\n",
       " '1594',\n",
       " '1597',\n",
       " '1597',\n",
       " '1602',\n",
       " '1602',\n",
       " '1609',\n",
       " '1609',\n",
       " '1615',\n",
       " '1615',\n",
       " '1617',\n",
       " '1617',\n",
       " '1621',\n",
       " '1624',\n",
       " '1628']"
      ]
     },
     "execution_count": 6,
     "metadata": {},
     "output_type": "execute_result"
    }
   ],
   "source": [
    "ys = list(data['Publication_date_(standardised)'])\n",
    "ys.sort()\n",
    "\n",
    "ys"
   ]
  },
  {
   "cell_type": "code",
   "execution_count": 7,
   "id": "3c7b2922",
   "metadata": {},
   "outputs": [
    {
     "data": {
      "text/plain": [
       "{'1550': 1,\n",
       " '1556': 1,\n",
       " '1557': 1,\n",
       " '1565': 1,\n",
       " '1566': 1,\n",
       " '1567': 2,\n",
       " '1570': 1,\n",
       " '1574': 1,\n",
       " '1575': 2,\n",
       " '1577': 1,\n",
       " '1578': 1,\n",
       " '1579': 1,\n",
       " '1580': 2,\n",
       " '1581': 1,\n",
       " '1582': 1,\n",
       " '1583': 1,\n",
       " '1585': 1,\n",
       " '1588': 3,\n",
       " '1591': 1,\n",
       " '1594': 3,\n",
       " '1597': 2,\n",
       " '1602': 2,\n",
       " '1609': 2,\n",
       " '1615': 2,\n",
       " '1617': 2,\n",
       " '1621': 1,\n",
       " '1624': 1,\n",
       " '1628': 1}"
      ]
     },
     "execution_count": 7,
     "metadata": {},
     "output_type": "execute_result"
    }
   ],
   "source": [
    "clean = dict()\n",
    "anni = []\n",
    "\n",
    "for y in ys:\n",
    "    s = str(y)\n",
    "    if s in clean.keys():\n",
    "        v = clean[s]\n",
    "        clean[s] = v+1\n",
    "    else:\n",
    "        clean[s] = 1\n",
    "\n",
    "clean"
   ]
  },
  {
   "cell_type": "code",
   "execution_count": 8,
   "id": "8427f39e",
   "metadata": {},
   "outputs": [
    {
     "data": {
      "text/html": [
       "<div>\n",
       "<style scoped>\n",
       "    .dataframe tbody tr th:only-of-type {\n",
       "        vertical-align: middle;\n",
       "    }\n",
       "\n",
       "    .dataframe tbody tr th {\n",
       "        vertical-align: top;\n",
       "    }\n",
       "\n",
       "    .dataframe thead th {\n",
       "        text-align: right;\n",
       "    }\n",
       "</style>\n",
       "<table border=\"1\" class=\"dataframe\">\n",
       "  <thead>\n",
       "    <tr style=\"text-align: right;\">\n",
       "      <th></th>\n",
       "      <th>n_publications</th>\n",
       "    </tr>\n",
       "  </thead>\n",
       "  <tbody>\n",
       "    <tr>\n",
       "      <th>1550</th>\n",
       "      <td>1</td>\n",
       "    </tr>\n",
       "    <tr>\n",
       "      <th>1556</th>\n",
       "      <td>1</td>\n",
       "    </tr>\n",
       "    <tr>\n",
       "      <th>1557</th>\n",
       "      <td>1</td>\n",
       "    </tr>\n",
       "    <tr>\n",
       "      <th>1565</th>\n",
       "      <td>1</td>\n",
       "    </tr>\n",
       "    <tr>\n",
       "      <th>1566</th>\n",
       "      <td>1</td>\n",
       "    </tr>\n",
       "    <tr>\n",
       "      <th>1567</th>\n",
       "      <td>2</td>\n",
       "    </tr>\n",
       "    <tr>\n",
       "      <th>1570</th>\n",
       "      <td>1</td>\n",
       "    </tr>\n",
       "    <tr>\n",
       "      <th>1574</th>\n",
       "      <td>1</td>\n",
       "    </tr>\n",
       "    <tr>\n",
       "      <th>1575</th>\n",
       "      <td>2</td>\n",
       "    </tr>\n",
       "    <tr>\n",
       "      <th>1577</th>\n",
       "      <td>1</td>\n",
       "    </tr>\n",
       "    <tr>\n",
       "      <th>1578</th>\n",
       "      <td>1</td>\n",
       "    </tr>\n",
       "    <tr>\n",
       "      <th>1579</th>\n",
       "      <td>1</td>\n",
       "    </tr>\n",
       "    <tr>\n",
       "      <th>1580</th>\n",
       "      <td>2</td>\n",
       "    </tr>\n",
       "    <tr>\n",
       "      <th>1581</th>\n",
       "      <td>1</td>\n",
       "    </tr>\n",
       "    <tr>\n",
       "      <th>1582</th>\n",
       "      <td>1</td>\n",
       "    </tr>\n",
       "    <tr>\n",
       "      <th>1583</th>\n",
       "      <td>1</td>\n",
       "    </tr>\n",
       "    <tr>\n",
       "      <th>1585</th>\n",
       "      <td>1</td>\n",
       "    </tr>\n",
       "    <tr>\n",
       "      <th>1588</th>\n",
       "      <td>3</td>\n",
       "    </tr>\n",
       "    <tr>\n",
       "      <th>1591</th>\n",
       "      <td>1</td>\n",
       "    </tr>\n",
       "    <tr>\n",
       "      <th>1594</th>\n",
       "      <td>3</td>\n",
       "    </tr>\n",
       "    <tr>\n",
       "      <th>1597</th>\n",
       "      <td>2</td>\n",
       "    </tr>\n",
       "    <tr>\n",
       "      <th>1602</th>\n",
       "      <td>2</td>\n",
       "    </tr>\n",
       "    <tr>\n",
       "      <th>1609</th>\n",
       "      <td>2</td>\n",
       "    </tr>\n",
       "    <tr>\n",
       "      <th>1615</th>\n",
       "      <td>2</td>\n",
       "    </tr>\n",
       "    <tr>\n",
       "      <th>1617</th>\n",
       "      <td>2</td>\n",
       "    </tr>\n",
       "    <tr>\n",
       "      <th>1621</th>\n",
       "      <td>1</td>\n",
       "    </tr>\n",
       "    <tr>\n",
       "      <th>1624</th>\n",
       "      <td>1</td>\n",
       "    </tr>\n",
       "    <tr>\n",
       "      <th>1628</th>\n",
       "      <td>1</td>\n",
       "    </tr>\n",
       "  </tbody>\n",
       "</table>\n",
       "</div>"
      ],
      "text/plain": [
       "      n_publications\n",
       "1550               1\n",
       "1556               1\n",
       "1557               1\n",
       "1565               1\n",
       "1566               1\n",
       "1567               2\n",
       "1570               1\n",
       "1574               1\n",
       "1575               2\n",
       "1577               1\n",
       "1578               1\n",
       "1579               1\n",
       "1580               2\n",
       "1581               1\n",
       "1582               1\n",
       "1583               1\n",
       "1585               1\n",
       "1588               3\n",
       "1591               1\n",
       "1594               3\n",
       "1597               2\n",
       "1602               2\n",
       "1609               2\n",
       "1615               2\n",
       "1617               2\n",
       "1621               1\n",
       "1624               1\n",
       "1628               1"
      ]
     },
     "execution_count": 8,
     "metadata": {},
     "output_type": "execute_result"
    }
   ],
   "source": [
    "prova = pd.DataFrame.from_dict(clean, orient='index', columns=['n_publications'])\n",
    "\n",
    "prova"
   ]
  },
  {
   "cell_type": "code",
   "execution_count": 9,
   "id": "b037812f",
   "metadata": {},
   "outputs": [
    {
     "data": {
      "application/vnd.plotly.v1+json": {
       "config": {
        "plotlyServerURL": "https://plot.ly"
       },
       "data": [
        {
         "hovertemplate": "variable=n_publications<br>index=%{x}<br>value=%{y}<extra></extra>",
         "legendgroup": "n_publications",
         "marker": {
          "color": "#636efa",
          "symbol": "circle"
         },
         "mode": "markers",
         "name": "n_publications",
         "orientation": "v",
         "showlegend": true,
         "type": "scatter",
         "x": [
          "1550",
          "1556",
          "1557",
          "1565",
          "1566",
          "1567",
          "1570",
          "1574",
          "1575",
          "1577",
          "1578",
          "1579",
          "1580",
          "1581",
          "1582",
          "1583",
          "1585",
          "1588",
          "1591",
          "1594",
          "1597",
          "1602",
          "1609",
          "1615",
          "1617",
          "1621",
          "1624",
          "1628"
         ],
         "xaxis": "x",
         "y": [
          1,
          1,
          1,
          1,
          1,
          2,
          1,
          1,
          2,
          1,
          1,
          1,
          2,
          1,
          1,
          1,
          1,
          3,
          1,
          3,
          2,
          2,
          2,
          2,
          2,
          1,
          1,
          1
         ],
         "yaxis": "y"
        }
       ],
       "layout": {
        "legend": {
         "title": {
          "text": "variable"
         },
         "tracegroupgap": 0
        },
        "margin": {
         "t": 60
        },
        "template": {
         "data": {
          "bar": [
           {
            "error_x": {
             "color": "#2a3f5f"
            },
            "error_y": {
             "color": "#2a3f5f"
            },
            "marker": {
             "line": {
              "color": "#E5ECF6",
              "width": 0.5
             },
             "pattern": {
              "fillmode": "overlay",
              "size": 10,
              "solidity": 0.2
             }
            },
            "type": "bar"
           }
          ],
          "barpolar": [
           {
            "marker": {
             "line": {
              "color": "#E5ECF6",
              "width": 0.5
             },
             "pattern": {
              "fillmode": "overlay",
              "size": 10,
              "solidity": 0.2
             }
            },
            "type": "barpolar"
           }
          ],
          "carpet": [
           {
            "aaxis": {
             "endlinecolor": "#2a3f5f",
             "gridcolor": "white",
             "linecolor": "white",
             "minorgridcolor": "white",
             "startlinecolor": "#2a3f5f"
            },
            "baxis": {
             "endlinecolor": "#2a3f5f",
             "gridcolor": "white",
             "linecolor": "white",
             "minorgridcolor": "white",
             "startlinecolor": "#2a3f5f"
            },
            "type": "carpet"
           }
          ],
          "choropleth": [
           {
            "colorbar": {
             "outlinewidth": 0,
             "ticks": ""
            },
            "type": "choropleth"
           }
          ],
          "contour": [
           {
            "colorbar": {
             "outlinewidth": 0,
             "ticks": ""
            },
            "colorscale": [
             [
              0,
              "#0d0887"
             ],
             [
              0.1111111111111111,
              "#46039f"
             ],
             [
              0.2222222222222222,
              "#7201a8"
             ],
             [
              0.3333333333333333,
              "#9c179e"
             ],
             [
              0.4444444444444444,
              "#bd3786"
             ],
             [
              0.5555555555555556,
              "#d8576b"
             ],
             [
              0.6666666666666666,
              "#ed7953"
             ],
             [
              0.7777777777777778,
              "#fb9f3a"
             ],
             [
              0.8888888888888888,
              "#fdca26"
             ],
             [
              1,
              "#f0f921"
             ]
            ],
            "type": "contour"
           }
          ],
          "contourcarpet": [
           {
            "colorbar": {
             "outlinewidth": 0,
             "ticks": ""
            },
            "type": "contourcarpet"
           }
          ],
          "heatmap": [
           {
            "colorbar": {
             "outlinewidth": 0,
             "ticks": ""
            },
            "colorscale": [
             [
              0,
              "#0d0887"
             ],
             [
              0.1111111111111111,
              "#46039f"
             ],
             [
              0.2222222222222222,
              "#7201a8"
             ],
             [
              0.3333333333333333,
              "#9c179e"
             ],
             [
              0.4444444444444444,
              "#bd3786"
             ],
             [
              0.5555555555555556,
              "#d8576b"
             ],
             [
              0.6666666666666666,
              "#ed7953"
             ],
             [
              0.7777777777777778,
              "#fb9f3a"
             ],
             [
              0.8888888888888888,
              "#fdca26"
             ],
             [
              1,
              "#f0f921"
             ]
            ],
            "type": "heatmap"
           }
          ],
          "heatmapgl": [
           {
            "colorbar": {
             "outlinewidth": 0,
             "ticks": ""
            },
            "colorscale": [
             [
              0,
              "#0d0887"
             ],
             [
              0.1111111111111111,
              "#46039f"
             ],
             [
              0.2222222222222222,
              "#7201a8"
             ],
             [
              0.3333333333333333,
              "#9c179e"
             ],
             [
              0.4444444444444444,
              "#bd3786"
             ],
             [
              0.5555555555555556,
              "#d8576b"
             ],
             [
              0.6666666666666666,
              "#ed7953"
             ],
             [
              0.7777777777777778,
              "#fb9f3a"
             ],
             [
              0.8888888888888888,
              "#fdca26"
             ],
             [
              1,
              "#f0f921"
             ]
            ],
            "type": "heatmapgl"
           }
          ],
          "histogram": [
           {
            "marker": {
             "pattern": {
              "fillmode": "overlay",
              "size": 10,
              "solidity": 0.2
             }
            },
            "type": "histogram"
           }
          ],
          "histogram2d": [
           {
            "colorbar": {
             "outlinewidth": 0,
             "ticks": ""
            },
            "colorscale": [
             [
              0,
              "#0d0887"
             ],
             [
              0.1111111111111111,
              "#46039f"
             ],
             [
              0.2222222222222222,
              "#7201a8"
             ],
             [
              0.3333333333333333,
              "#9c179e"
             ],
             [
              0.4444444444444444,
              "#bd3786"
             ],
             [
              0.5555555555555556,
              "#d8576b"
             ],
             [
              0.6666666666666666,
              "#ed7953"
             ],
             [
              0.7777777777777778,
              "#fb9f3a"
             ],
             [
              0.8888888888888888,
              "#fdca26"
             ],
             [
              1,
              "#f0f921"
             ]
            ],
            "type": "histogram2d"
           }
          ],
          "histogram2dcontour": [
           {
            "colorbar": {
             "outlinewidth": 0,
             "ticks": ""
            },
            "colorscale": [
             [
              0,
              "#0d0887"
             ],
             [
              0.1111111111111111,
              "#46039f"
             ],
             [
              0.2222222222222222,
              "#7201a8"
             ],
             [
              0.3333333333333333,
              "#9c179e"
             ],
             [
              0.4444444444444444,
              "#bd3786"
             ],
             [
              0.5555555555555556,
              "#d8576b"
             ],
             [
              0.6666666666666666,
              "#ed7953"
             ],
             [
              0.7777777777777778,
              "#fb9f3a"
             ],
             [
              0.8888888888888888,
              "#fdca26"
             ],
             [
              1,
              "#f0f921"
             ]
            ],
            "type": "histogram2dcontour"
           }
          ],
          "mesh3d": [
           {
            "colorbar": {
             "outlinewidth": 0,
             "ticks": ""
            },
            "type": "mesh3d"
           }
          ],
          "parcoords": [
           {
            "line": {
             "colorbar": {
              "outlinewidth": 0,
              "ticks": ""
             }
            },
            "type": "parcoords"
           }
          ],
          "pie": [
           {
            "automargin": true,
            "type": "pie"
           }
          ],
          "scatter": [
           {
            "fillpattern": {
             "fillmode": "overlay",
             "size": 10,
             "solidity": 0.2
            },
            "type": "scatter"
           }
          ],
          "scatter3d": [
           {
            "line": {
             "colorbar": {
              "outlinewidth": 0,
              "ticks": ""
             }
            },
            "marker": {
             "colorbar": {
              "outlinewidth": 0,
              "ticks": ""
             }
            },
            "type": "scatter3d"
           }
          ],
          "scattercarpet": [
           {
            "marker": {
             "colorbar": {
              "outlinewidth": 0,
              "ticks": ""
             }
            },
            "type": "scattercarpet"
           }
          ],
          "scattergeo": [
           {
            "marker": {
             "colorbar": {
              "outlinewidth": 0,
              "ticks": ""
             }
            },
            "type": "scattergeo"
           }
          ],
          "scattergl": [
           {
            "marker": {
             "colorbar": {
              "outlinewidth": 0,
              "ticks": ""
             }
            },
            "type": "scattergl"
           }
          ],
          "scattermapbox": [
           {
            "marker": {
             "colorbar": {
              "outlinewidth": 0,
              "ticks": ""
             }
            },
            "type": "scattermapbox"
           }
          ],
          "scatterpolar": [
           {
            "marker": {
             "colorbar": {
              "outlinewidth": 0,
              "ticks": ""
             }
            },
            "type": "scatterpolar"
           }
          ],
          "scatterpolargl": [
           {
            "marker": {
             "colorbar": {
              "outlinewidth": 0,
              "ticks": ""
             }
            },
            "type": "scatterpolargl"
           }
          ],
          "scatterternary": [
           {
            "marker": {
             "colorbar": {
              "outlinewidth": 0,
              "ticks": ""
             }
            },
            "type": "scatterternary"
           }
          ],
          "surface": [
           {
            "colorbar": {
             "outlinewidth": 0,
             "ticks": ""
            },
            "colorscale": [
             [
              0,
              "#0d0887"
             ],
             [
              0.1111111111111111,
              "#46039f"
             ],
             [
              0.2222222222222222,
              "#7201a8"
             ],
             [
              0.3333333333333333,
              "#9c179e"
             ],
             [
              0.4444444444444444,
              "#bd3786"
             ],
             [
              0.5555555555555556,
              "#d8576b"
             ],
             [
              0.6666666666666666,
              "#ed7953"
             ],
             [
              0.7777777777777778,
              "#fb9f3a"
             ],
             [
              0.8888888888888888,
              "#fdca26"
             ],
             [
              1,
              "#f0f921"
             ]
            ],
            "type": "surface"
           }
          ],
          "table": [
           {
            "cells": {
             "fill": {
              "color": "#EBF0F8"
             },
             "line": {
              "color": "white"
             }
            },
            "header": {
             "fill": {
              "color": "#C8D4E3"
             },
             "line": {
              "color": "white"
             }
            },
            "type": "table"
           }
          ]
         },
         "layout": {
          "annotationdefaults": {
           "arrowcolor": "#2a3f5f",
           "arrowhead": 0,
           "arrowwidth": 1
          },
          "autotypenumbers": "strict",
          "coloraxis": {
           "colorbar": {
            "outlinewidth": 0,
            "ticks": ""
           }
          },
          "colorscale": {
           "diverging": [
            [
             0,
             "#8e0152"
            ],
            [
             0.1,
             "#c51b7d"
            ],
            [
             0.2,
             "#de77ae"
            ],
            [
             0.3,
             "#f1b6da"
            ],
            [
             0.4,
             "#fde0ef"
            ],
            [
             0.5,
             "#f7f7f7"
            ],
            [
             0.6,
             "#e6f5d0"
            ],
            [
             0.7,
             "#b8e186"
            ],
            [
             0.8,
             "#7fbc41"
            ],
            [
             0.9,
             "#4d9221"
            ],
            [
             1,
             "#276419"
            ]
           ],
           "sequential": [
            [
             0,
             "#0d0887"
            ],
            [
             0.1111111111111111,
             "#46039f"
            ],
            [
             0.2222222222222222,
             "#7201a8"
            ],
            [
             0.3333333333333333,
             "#9c179e"
            ],
            [
             0.4444444444444444,
             "#bd3786"
            ],
            [
             0.5555555555555556,
             "#d8576b"
            ],
            [
             0.6666666666666666,
             "#ed7953"
            ],
            [
             0.7777777777777778,
             "#fb9f3a"
            ],
            [
             0.8888888888888888,
             "#fdca26"
            ],
            [
             1,
             "#f0f921"
            ]
           ],
           "sequentialminus": [
            [
             0,
             "#0d0887"
            ],
            [
             0.1111111111111111,
             "#46039f"
            ],
            [
             0.2222222222222222,
             "#7201a8"
            ],
            [
             0.3333333333333333,
             "#9c179e"
            ],
            [
             0.4444444444444444,
             "#bd3786"
            ],
            [
             0.5555555555555556,
             "#d8576b"
            ],
            [
             0.6666666666666666,
             "#ed7953"
            ],
            [
             0.7777777777777778,
             "#fb9f3a"
            ],
            [
             0.8888888888888888,
             "#fdca26"
            ],
            [
             1,
             "#f0f921"
            ]
           ]
          },
          "colorway": [
           "#636efa",
           "#EF553B",
           "#00cc96",
           "#ab63fa",
           "#FFA15A",
           "#19d3f3",
           "#FF6692",
           "#B6E880",
           "#FF97FF",
           "#FECB52"
          ],
          "font": {
           "color": "#2a3f5f"
          },
          "geo": {
           "bgcolor": "white",
           "lakecolor": "white",
           "landcolor": "#E5ECF6",
           "showlakes": true,
           "showland": true,
           "subunitcolor": "white"
          },
          "hoverlabel": {
           "align": "left"
          },
          "hovermode": "closest",
          "mapbox": {
           "style": "light"
          },
          "paper_bgcolor": "white",
          "plot_bgcolor": "#E5ECF6",
          "polar": {
           "angularaxis": {
            "gridcolor": "white",
            "linecolor": "white",
            "ticks": ""
           },
           "bgcolor": "#E5ECF6",
           "radialaxis": {
            "gridcolor": "white",
            "linecolor": "white",
            "ticks": ""
           }
          },
          "scene": {
           "xaxis": {
            "backgroundcolor": "#E5ECF6",
            "gridcolor": "white",
            "gridwidth": 2,
            "linecolor": "white",
            "showbackground": true,
            "ticks": "",
            "zerolinecolor": "white"
           },
           "yaxis": {
            "backgroundcolor": "#E5ECF6",
            "gridcolor": "white",
            "gridwidth": 2,
            "linecolor": "white",
            "showbackground": true,
            "ticks": "",
            "zerolinecolor": "white"
           },
           "zaxis": {
            "backgroundcolor": "#E5ECF6",
            "gridcolor": "white",
            "gridwidth": 2,
            "linecolor": "white",
            "showbackground": true,
            "ticks": "",
            "zerolinecolor": "white"
           }
          },
          "shapedefaults": {
           "line": {
            "color": "#2a3f5f"
           }
          },
          "ternary": {
           "aaxis": {
            "gridcolor": "white",
            "linecolor": "white",
            "ticks": ""
           },
           "baxis": {
            "gridcolor": "white",
            "linecolor": "white",
            "ticks": ""
           },
           "bgcolor": "#E5ECF6",
           "caxis": {
            "gridcolor": "white",
            "linecolor": "white",
            "ticks": ""
           }
          },
          "title": {
           "x": 0.05
          },
          "xaxis": {
           "automargin": true,
           "gridcolor": "white",
           "linecolor": "white",
           "ticks": "",
           "title": {
            "standoff": 15
           },
           "zerolinecolor": "white",
           "zerolinewidth": 2
          },
          "yaxis": {
           "automargin": true,
           "gridcolor": "white",
           "linecolor": "white",
           "ticks": "",
           "title": {
            "standoff": 15
           },
           "zerolinecolor": "white",
           "zerolinewidth": 2
          }
         }
        },
        "xaxis": {
         "anchor": "y",
         "domain": [
          0,
          1
         ],
         "title": {
          "text": "index"
         }
        },
        "yaxis": {
         "anchor": "x",
         "domain": [
          0,
          1
         ],
         "title": {
          "text": "value"
         }
        }
       }
      },
      "text/html": [
       "<div>                            <div id=\"fb695ea7-f303-4de7-aa06-e4a73b88f8e4\" class=\"plotly-graph-div\" style=\"height:525px; width:100%;\"></div>            <script type=\"text/javascript\">                require([\"plotly\"], function(Plotly) {                    window.PLOTLYENV=window.PLOTLYENV || {};                                    if (document.getElementById(\"fb695ea7-f303-4de7-aa06-e4a73b88f8e4\")) {                    Plotly.newPlot(                        \"fb695ea7-f303-4de7-aa06-e4a73b88f8e4\",                        [{\"hovertemplate\":\"variable=n_publications<br>index=%{x}<br>value=%{y}<extra></extra>\",\"legendgroup\":\"n_publications\",\"marker\":{\"color\":\"#636efa\",\"symbol\":\"circle\"},\"mode\":\"markers\",\"name\":\"n_publications\",\"orientation\":\"v\",\"showlegend\":true,\"x\":[\"1550\",\"1556\",\"1557\",\"1565\",\"1566\",\"1567\",\"1570\",\"1574\",\"1575\",\"1577\",\"1578\",\"1579\",\"1580\",\"1581\",\"1582\",\"1583\",\"1585\",\"1588\",\"1591\",\"1594\",\"1597\",\"1602\",\"1609\",\"1615\",\"1617\",\"1621\",\"1624\",\"1628\"],\"xaxis\":\"x\",\"y\":[1,1,1,1,1,2,1,1,2,1,1,1,2,1,1,1,1,3,1,3,2,2,2,2,2,1,1,1],\"yaxis\":\"y\",\"type\":\"scatter\"}],                        {\"template\":{\"data\":{\"histogram2dcontour\":[{\"type\":\"histogram2dcontour\",\"colorbar\":{\"outlinewidth\":0,\"ticks\":\"\"},\"colorscale\":[[0.0,\"#0d0887\"],[0.1111111111111111,\"#46039f\"],[0.2222222222222222,\"#7201a8\"],[0.3333333333333333,\"#9c179e\"],[0.4444444444444444,\"#bd3786\"],[0.5555555555555556,\"#d8576b\"],[0.6666666666666666,\"#ed7953\"],[0.7777777777777778,\"#fb9f3a\"],[0.8888888888888888,\"#fdca26\"],[1.0,\"#f0f921\"]]}],\"choropleth\":[{\"type\":\"choropleth\",\"colorbar\":{\"outlinewidth\":0,\"ticks\":\"\"}}],\"histogram2d\":[{\"type\":\"histogram2d\",\"colorbar\":{\"outlinewidth\":0,\"ticks\":\"\"},\"colorscale\":[[0.0,\"#0d0887\"],[0.1111111111111111,\"#46039f\"],[0.2222222222222222,\"#7201a8\"],[0.3333333333333333,\"#9c179e\"],[0.4444444444444444,\"#bd3786\"],[0.5555555555555556,\"#d8576b\"],[0.6666666666666666,\"#ed7953\"],[0.7777777777777778,\"#fb9f3a\"],[0.8888888888888888,\"#fdca26\"],[1.0,\"#f0f921\"]]}],\"heatmap\":[{\"type\":\"heatmap\",\"colorbar\":{\"outlinewidth\":0,\"ticks\":\"\"},\"colorscale\":[[0.0,\"#0d0887\"],[0.1111111111111111,\"#46039f\"],[0.2222222222222222,\"#7201a8\"],[0.3333333333333333,\"#9c179e\"],[0.4444444444444444,\"#bd3786\"],[0.5555555555555556,\"#d8576b\"],[0.6666666666666666,\"#ed7953\"],[0.7777777777777778,\"#fb9f3a\"],[0.8888888888888888,\"#fdca26\"],[1.0,\"#f0f921\"]]}],\"heatmapgl\":[{\"type\":\"heatmapgl\",\"colorbar\":{\"outlinewidth\":0,\"ticks\":\"\"},\"colorscale\":[[0.0,\"#0d0887\"],[0.1111111111111111,\"#46039f\"],[0.2222222222222222,\"#7201a8\"],[0.3333333333333333,\"#9c179e\"],[0.4444444444444444,\"#bd3786\"],[0.5555555555555556,\"#d8576b\"],[0.6666666666666666,\"#ed7953\"],[0.7777777777777778,\"#fb9f3a\"],[0.8888888888888888,\"#fdca26\"],[1.0,\"#f0f921\"]]}],\"contourcarpet\":[{\"type\":\"contourcarpet\",\"colorbar\":{\"outlinewidth\":0,\"ticks\":\"\"}}],\"contour\":[{\"type\":\"contour\",\"colorbar\":{\"outlinewidth\":0,\"ticks\":\"\"},\"colorscale\":[[0.0,\"#0d0887\"],[0.1111111111111111,\"#46039f\"],[0.2222222222222222,\"#7201a8\"],[0.3333333333333333,\"#9c179e\"],[0.4444444444444444,\"#bd3786\"],[0.5555555555555556,\"#d8576b\"],[0.6666666666666666,\"#ed7953\"],[0.7777777777777778,\"#fb9f3a\"],[0.8888888888888888,\"#fdca26\"],[1.0,\"#f0f921\"]]}],\"surface\":[{\"type\":\"surface\",\"colorbar\":{\"outlinewidth\":0,\"ticks\":\"\"},\"colorscale\":[[0.0,\"#0d0887\"],[0.1111111111111111,\"#46039f\"],[0.2222222222222222,\"#7201a8\"],[0.3333333333333333,\"#9c179e\"],[0.4444444444444444,\"#bd3786\"],[0.5555555555555556,\"#d8576b\"],[0.6666666666666666,\"#ed7953\"],[0.7777777777777778,\"#fb9f3a\"],[0.8888888888888888,\"#fdca26\"],[1.0,\"#f0f921\"]]}],\"mesh3d\":[{\"type\":\"mesh3d\",\"colorbar\":{\"outlinewidth\":0,\"ticks\":\"\"}}],\"scatter\":[{\"fillpattern\":{\"fillmode\":\"overlay\",\"size\":10,\"solidity\":0.2},\"type\":\"scatter\"}],\"parcoords\":[{\"type\":\"parcoords\",\"line\":{\"colorbar\":{\"outlinewidth\":0,\"ticks\":\"\"}}}],\"scatterpolargl\":[{\"type\":\"scatterpolargl\",\"marker\":{\"colorbar\":{\"outlinewidth\":0,\"ticks\":\"\"}}}],\"bar\":[{\"error_x\":{\"color\":\"#2a3f5f\"},\"error_y\":{\"color\":\"#2a3f5f\"},\"marker\":{\"line\":{\"color\":\"#E5ECF6\",\"width\":0.5},\"pattern\":{\"fillmode\":\"overlay\",\"size\":10,\"solidity\":0.2}},\"type\":\"bar\"}],\"scattergeo\":[{\"type\":\"scattergeo\",\"marker\":{\"colorbar\":{\"outlinewidth\":0,\"ticks\":\"\"}}}],\"scatterpolar\":[{\"type\":\"scatterpolar\",\"marker\":{\"colorbar\":{\"outlinewidth\":0,\"ticks\":\"\"}}}],\"histogram\":[{\"marker\":{\"pattern\":{\"fillmode\":\"overlay\",\"size\":10,\"solidity\":0.2}},\"type\":\"histogram\"}],\"scattergl\":[{\"type\":\"scattergl\",\"marker\":{\"colorbar\":{\"outlinewidth\":0,\"ticks\":\"\"}}}],\"scatter3d\":[{\"type\":\"scatter3d\",\"line\":{\"colorbar\":{\"outlinewidth\":0,\"ticks\":\"\"}},\"marker\":{\"colorbar\":{\"outlinewidth\":0,\"ticks\":\"\"}}}],\"scattermapbox\":[{\"type\":\"scattermapbox\",\"marker\":{\"colorbar\":{\"outlinewidth\":0,\"ticks\":\"\"}}}],\"scatterternary\":[{\"type\":\"scatterternary\",\"marker\":{\"colorbar\":{\"outlinewidth\":0,\"ticks\":\"\"}}}],\"scattercarpet\":[{\"type\":\"scattercarpet\",\"marker\":{\"colorbar\":{\"outlinewidth\":0,\"ticks\":\"\"}}}],\"carpet\":[{\"aaxis\":{\"endlinecolor\":\"#2a3f5f\",\"gridcolor\":\"white\",\"linecolor\":\"white\",\"minorgridcolor\":\"white\",\"startlinecolor\":\"#2a3f5f\"},\"baxis\":{\"endlinecolor\":\"#2a3f5f\",\"gridcolor\":\"white\",\"linecolor\":\"white\",\"minorgridcolor\":\"white\",\"startlinecolor\":\"#2a3f5f\"},\"type\":\"carpet\"}],\"table\":[{\"cells\":{\"fill\":{\"color\":\"#EBF0F8\"},\"line\":{\"color\":\"white\"}},\"header\":{\"fill\":{\"color\":\"#C8D4E3\"},\"line\":{\"color\":\"white\"}},\"type\":\"table\"}],\"barpolar\":[{\"marker\":{\"line\":{\"color\":\"#E5ECF6\",\"width\":0.5},\"pattern\":{\"fillmode\":\"overlay\",\"size\":10,\"solidity\":0.2}},\"type\":\"barpolar\"}],\"pie\":[{\"automargin\":true,\"type\":\"pie\"}]},\"layout\":{\"autotypenumbers\":\"strict\",\"colorway\":[\"#636efa\",\"#EF553B\",\"#00cc96\",\"#ab63fa\",\"#FFA15A\",\"#19d3f3\",\"#FF6692\",\"#B6E880\",\"#FF97FF\",\"#FECB52\"],\"font\":{\"color\":\"#2a3f5f\"},\"hovermode\":\"closest\",\"hoverlabel\":{\"align\":\"left\"},\"paper_bgcolor\":\"white\",\"plot_bgcolor\":\"#E5ECF6\",\"polar\":{\"bgcolor\":\"#E5ECF6\",\"angularaxis\":{\"gridcolor\":\"white\",\"linecolor\":\"white\",\"ticks\":\"\"},\"radialaxis\":{\"gridcolor\":\"white\",\"linecolor\":\"white\",\"ticks\":\"\"}},\"ternary\":{\"bgcolor\":\"#E5ECF6\",\"aaxis\":{\"gridcolor\":\"white\",\"linecolor\":\"white\",\"ticks\":\"\"},\"baxis\":{\"gridcolor\":\"white\",\"linecolor\":\"white\",\"ticks\":\"\"},\"caxis\":{\"gridcolor\":\"white\",\"linecolor\":\"white\",\"ticks\":\"\"}},\"coloraxis\":{\"colorbar\":{\"outlinewidth\":0,\"ticks\":\"\"}},\"colorscale\":{\"sequential\":[[0.0,\"#0d0887\"],[0.1111111111111111,\"#46039f\"],[0.2222222222222222,\"#7201a8\"],[0.3333333333333333,\"#9c179e\"],[0.4444444444444444,\"#bd3786\"],[0.5555555555555556,\"#d8576b\"],[0.6666666666666666,\"#ed7953\"],[0.7777777777777778,\"#fb9f3a\"],[0.8888888888888888,\"#fdca26\"],[1.0,\"#f0f921\"]],\"sequentialminus\":[[0.0,\"#0d0887\"],[0.1111111111111111,\"#46039f\"],[0.2222222222222222,\"#7201a8\"],[0.3333333333333333,\"#9c179e\"],[0.4444444444444444,\"#bd3786\"],[0.5555555555555556,\"#d8576b\"],[0.6666666666666666,\"#ed7953\"],[0.7777777777777778,\"#fb9f3a\"],[0.8888888888888888,\"#fdca26\"],[1.0,\"#f0f921\"]],\"diverging\":[[0,\"#8e0152\"],[0.1,\"#c51b7d\"],[0.2,\"#de77ae\"],[0.3,\"#f1b6da\"],[0.4,\"#fde0ef\"],[0.5,\"#f7f7f7\"],[0.6,\"#e6f5d0\"],[0.7,\"#b8e186\"],[0.8,\"#7fbc41\"],[0.9,\"#4d9221\"],[1,\"#276419\"]]},\"xaxis\":{\"gridcolor\":\"white\",\"linecolor\":\"white\",\"ticks\":\"\",\"title\":{\"standoff\":15},\"zerolinecolor\":\"white\",\"automargin\":true,\"zerolinewidth\":2},\"yaxis\":{\"gridcolor\":\"white\",\"linecolor\":\"white\",\"ticks\":\"\",\"title\":{\"standoff\":15},\"zerolinecolor\":\"white\",\"automargin\":true,\"zerolinewidth\":2},\"scene\":{\"xaxis\":{\"backgroundcolor\":\"#E5ECF6\",\"gridcolor\":\"white\",\"linecolor\":\"white\",\"showbackground\":true,\"ticks\":\"\",\"zerolinecolor\":\"white\",\"gridwidth\":2},\"yaxis\":{\"backgroundcolor\":\"#E5ECF6\",\"gridcolor\":\"white\",\"linecolor\":\"white\",\"showbackground\":true,\"ticks\":\"\",\"zerolinecolor\":\"white\",\"gridwidth\":2},\"zaxis\":{\"backgroundcolor\":\"#E5ECF6\",\"gridcolor\":\"white\",\"linecolor\":\"white\",\"showbackground\":true,\"ticks\":\"\",\"zerolinecolor\":\"white\",\"gridwidth\":2}},\"shapedefaults\":{\"line\":{\"color\":\"#2a3f5f\"}},\"annotationdefaults\":{\"arrowcolor\":\"#2a3f5f\",\"arrowhead\":0,\"arrowwidth\":1},\"geo\":{\"bgcolor\":\"white\",\"landcolor\":\"#E5ECF6\",\"subunitcolor\":\"white\",\"showland\":true,\"showlakes\":true,\"lakecolor\":\"white\"},\"title\":{\"x\":0.05},\"mapbox\":{\"style\":\"light\"}}},\"xaxis\":{\"anchor\":\"y\",\"domain\":[0.0,1.0],\"title\":{\"text\":\"index\"}},\"yaxis\":{\"anchor\":\"x\",\"domain\":[0.0,1.0],\"title\":{\"text\":\"value\"}},\"legend\":{\"title\":{\"text\":\"variable\"},\"tracegroupgap\":0},\"margin\":{\"t\":60}},                        {\"responsive\": true}                    ).then(function(){\n",
       "                            \n",
       "var gd = document.getElementById('fb695ea7-f303-4de7-aa06-e4a73b88f8e4');\n",
       "var x = new MutationObserver(function (mutations, observer) {{\n",
       "        var display = window.getComputedStyle(gd).display;\n",
       "        if (!display || display === 'none') {{\n",
       "            console.log([gd, 'removed!']);\n",
       "            Plotly.purge(gd);\n",
       "            observer.disconnect();\n",
       "        }}\n",
       "}});\n",
       "\n",
       "// Listen for the removal of the full notebook cells\n",
       "var notebookContainer = gd.closest('#notebook-container');\n",
       "if (notebookContainer) {{\n",
       "    x.observe(notebookContainer, {childList: true});\n",
       "}}\n",
       "\n",
       "// Listen for the clearing of the current output cell\n",
       "var outputEl = gd.closest('.output');\n",
       "if (outputEl) {{\n",
       "    x.observe(outputEl, {childList: true});\n",
       "}}\n",
       "\n",
       "                        })                };                });            </script>        </div>"
      ]
     },
     "metadata": {},
     "output_type": "display_data"
    }
   ],
   "source": [
    "px.scatter(prova)"
   ]
  },
  {
   "cell_type": "code",
   "execution_count": 12,
   "id": "c5592584",
   "metadata": {},
   "outputs": [],
   "source": []
  },
  {
   "cell_type": "code",
   "execution_count": null,
   "id": "111d10ea",
   "metadata": {},
   "outputs": [],
   "source": []
  },
  {
   "cell_type": "markdown",
   "id": "2fbd19d0",
   "metadata": {},
   "source": [
    "## Bar chart\n",
    "### Most prolific publishers"
   ]
  },
  {
   "cell_type": "code",
   "execution_count": 10,
   "id": "10ea869b",
   "metadata": {},
   "outputs": [
    {
     "data": {
      "text/html": [
       "<div>\n",
       "<style scoped>\n",
       "    .dataframe tbody tr th:only-of-type {\n",
       "        vertical-align: middle;\n",
       "    }\n",
       "\n",
       "    .dataframe tbody tr th {\n",
       "        vertical-align: top;\n",
       "    }\n",
       "\n",
       "    .dataframe thead th {\n",
       "        text-align: right;\n",
       "    }\n",
       "</style>\n",
       "<table border=\"1\" class=\"dataframe\">\n",
       "  <thead>\n",
       "    <tr style=\"text-align: right;\">\n",
       "      <th></th>\n",
       "      <th>BL_record_ID</th>\n",
       "      <th>Title</th>\n",
       "      <th>Standardised_title</th>\n",
       "      <th>Other_titles</th>\n",
       "      <th>Composer</th>\n",
       "      <th>Composer_life_dates</th>\n",
       "      <th>Other_names</th>\n",
       "      <th>Publication_date_(standardised)</th>\n",
       "      <th>Country_of_publication</th>\n",
       "      <th>Place_of_publication</th>\n",
       "      <th>Publisher</th>\n",
       "      <th>Notes</th>\n",
       "      <th>Contents</th>\n",
       "      <th>Subject/genre_terms</th>\n",
       "      <th>Voices</th>\n",
       "    </tr>\n",
       "    <tr>\n",
       "      <th>Column1</th>\n",
       "      <th></th>\n",
       "      <th></th>\n",
       "      <th></th>\n",
       "      <th></th>\n",
       "      <th></th>\n",
       "      <th></th>\n",
       "      <th></th>\n",
       "      <th></th>\n",
       "      <th></th>\n",
       "      <th></th>\n",
       "      <th></th>\n",
       "      <th></th>\n",
       "      <th></th>\n",
       "      <th></th>\n",
       "      <th></th>\n",
       "    </tr>\n",
       "  </thead>\n",
       "  <tbody>\n",
       "    <tr>\n",
       "      <th>1643</th>\n",
       "      <td>4577492</td>\n",
       "      <td>Il Primo Libro de' Madrigali a Due Tre e Quatt...</td>\n",
       "      <td>NaN</td>\n",
       "      <td>NaN</td>\n",
       "      <td>Martino Pesenti</td>\n",
       "      <td>1600-1648</td>\n",
       "      <td>NaN</td>\n",
       "      <td>1628</td>\n",
       "      <td>Italy</td>\n",
       "      <td>Venice</td>\n",
       "      <td>Alessandro Vincenti</td>\n",
       "      <td>NaN</td>\n",
       "      <td>NaN</td>\n",
       "      <td>NaN</td>\n",
       "      <td>2; 3; 4</td>\n",
       "    </tr>\n",
       "    <tr>\n",
       "      <th>1322</th>\n",
       "      <td>4532960</td>\n",
       "      <td>Di Filippo di Monte ... Il Primo Libro de Madr...</td>\n",
       "      <td>NaN</td>\n",
       "      <td>NaN</td>\n",
       "      <td>Philippe de Monte</td>\n",
       "      <td>1521-1603</td>\n",
       "      <td>NaN</td>\n",
       "      <td>1581</td>\n",
       "      <td>Italy</td>\n",
       "      <td>Venice</td>\n",
       "      <td>Angelo Gardano</td>\n",
       "      <td>NaN</td>\n",
       "      <td>NaN</td>\n",
       "      <td>NaN</td>\n",
       "      <td>5</td>\n",
       "    </tr>\n",
       "    <tr>\n",
       "      <th>719</th>\n",
       "      <td>4361050</td>\n",
       "      <td>Di Ruggiero Giouannelli ... il Primo Libro de ...</td>\n",
       "      <td>NaN</td>\n",
       "      <td>NaN</td>\n",
       "      <td>Ruggiero Giovannelli</td>\n",
       "      <td>1560-1625</td>\n",
       "      <td>NaN</td>\n",
       "      <td>1588</td>\n",
       "      <td>Italy</td>\n",
       "      <td>Venice</td>\n",
       "      <td>Angelo Gardano</td>\n",
       "      <td>NaN</td>\n",
       "      <td>NaN</td>\n",
       "      <td>NaN</td>\n",
       "      <td>5</td>\n",
       "    </tr>\n",
       "    <tr>\n",
       "      <th>720</th>\n",
       "      <td>4361051</td>\n",
       "      <td>Di Ruggiero Giouannelli ... Il Primo Libro de ...</td>\n",
       "      <td>NaN</td>\n",
       "      <td>NaN</td>\n",
       "      <td>Ruggiero Giovannelli</td>\n",
       "      <td>1560-1625</td>\n",
       "      <td>NaN</td>\n",
       "      <td>1594</td>\n",
       "      <td>Italy</td>\n",
       "      <td>Venice</td>\n",
       "      <td>Angelo Gardano</td>\n",
       "      <td>NaN</td>\n",
       "      <td>NaN</td>\n",
       "      <td>NaN</td>\n",
       "      <td>5</td>\n",
       "    </tr>\n",
       "    <tr>\n",
       "      <th>2271</th>\n",
       "      <td>4738905</td>\n",
       "      <td>Di Giaches de Wert Il Decimo Libro de Madrigal...</td>\n",
       "      <td>NaN</td>\n",
       "      <td>NaN</td>\n",
       "      <td>Giaches de Wert</td>\n",
       "      <td>1535-1596</td>\n",
       "      <td>NaN</td>\n",
       "      <td>1591</td>\n",
       "      <td>Italy</td>\n",
       "      <td>Venice</td>\n",
       "      <td>Angelo Gardano</td>\n",
       "      <td>NaN</td>\n",
       "      <td>NaN</td>\n",
       "      <td>NaN</td>\n",
       "      <td>5</td>\n",
       "    </tr>\n",
       "    <tr>\n",
       "      <th>2264</th>\n",
       "      <td>4738897</td>\n",
       "      <td>Di Giaches de Wert Il Quinto Libro de Madrigal...</td>\n",
       "      <td>NaN</td>\n",
       "      <td>NaN</td>\n",
       "      <td>Giaches de Wert</td>\n",
       "      <td>1535-1596</td>\n",
       "      <td>NaN</td>\n",
       "      <td>1580</td>\n",
       "      <td>Italy</td>\n",
       "      <td>Venice</td>\n",
       "      <td>Angelo Gardano</td>\n",
       "      <td>NaN</td>\n",
       "      <td>NaN</td>\n",
       "      <td>NaN</td>\n",
       "      <td>5; 6; 7</td>\n",
       "    </tr>\n",
       "    <tr>\n",
       "      <th>1164</th>\n",
       "      <td>4507593</td>\n",
       "      <td>Di Luca Marenzio il Terzo Libro de Madrigali a...</td>\n",
       "      <td>Il terzo libro de madrigali a cinque voci</td>\n",
       "      <td>NaN</td>\n",
       "      <td>Luca Marenzio</td>\n",
       "      <td>1553-1599</td>\n",
       "      <td>NaN</td>\n",
       "      <td>1582</td>\n",
       "      <td>Italy</td>\n",
       "      <td>Venice</td>\n",
       "      <td>Angelo Gardano</td>\n",
       "      <td>Another copy of Hirsch iii .913</td>\n",
       "      <td>NaN</td>\n",
       "      <td>NaN</td>\n",
       "      <td>5</td>\n",
       "    </tr>\n",
       "    <tr>\n",
       "      <th>2256</th>\n",
       "      <td>4738887</td>\n",
       "      <td>Di Giaches de Wert Il Primo Libro de Madrigali...</td>\n",
       "      <td>NaN</td>\n",
       "      <td>NaN</td>\n",
       "      <td>Giaches de Wert</td>\n",
       "      <td>1535-1596</td>\n",
       "      <td>NaN</td>\n",
       "      <td>1583</td>\n",
       "      <td>Italy</td>\n",
       "      <td>Venice</td>\n",
       "      <td>Angelo Gardano</td>\n",
       "      <td>NaN</td>\n",
       "      <td>NaN</td>\n",
       "      <td>NaN</td>\n",
       "      <td>5</td>\n",
       "    </tr>\n",
       "    <tr>\n",
       "      <th>1245</th>\n",
       "      <td>4518366</td>\n",
       "      <td>Il Quinto Libro de Madrigali a Cinque Voci ......</td>\n",
       "      <td>NaN</td>\n",
       "      <td>NaN</td>\n",
       "      <td>Rinaldo del Mel</td>\n",
       "      <td>1554-1598</td>\n",
       "      <td>NaN</td>\n",
       "      <td>1594</td>\n",
       "      <td>Italy</td>\n",
       "      <td>Venice</td>\n",
       "      <td>Angelo Gardano</td>\n",
       "      <td>NaN</td>\n",
       "      <td>NaN</td>\n",
       "      <td>NaN</td>\n",
       "      <td>5</td>\n",
       "    </tr>\n",
       "    <tr>\n",
       "      <th>869</th>\n",
       "      <td>4431676</td>\n",
       "      <td>Il Secondo Libro de Madrigali a Cinque Voci .....</td>\n",
       "      <td>Madrigals. voices (5). bk. 2</td>\n",
       "      <td>NaN</td>\n",
       "      <td>Paolo Isnardi</td>\n",
       "      <td>1536-1596</td>\n",
       "      <td>NaN</td>\n",
       "      <td>1577</td>\n",
       "      <td>Italy</td>\n",
       "      <td>Venice</td>\n",
       "      <td>Angelo Gardano</td>\n",
       "      <td>NaN</td>\n",
       "      <td>NaN</td>\n",
       "      <td>Choruses, Secular (Mixed voices, 5 parts), Una...</td>\n",
       "      <td>5</td>\n",
       "    </tr>\n",
       "    <tr>\n",
       "      <th>1634</th>\n",
       "      <td>4574345</td>\n",
       "      <td>Del Sig. Tomaso Pecci Madrigali a Cinque Voci,...</td>\n",
       "      <td>NaN</td>\n",
       "      <td>NaN</td>\n",
       "      <td>Tomaso Pecci</td>\n",
       "      <td>1576-1606</td>\n",
       "      <td>NaN</td>\n",
       "      <td>1602</td>\n",
       "      <td>Italy</td>\n",
       "      <td>Venice</td>\n",
       "      <td>Angelo Gardano</td>\n",
       "      <td>This work contains two madrigals by M. Tantucci</td>\n",
       "      <td>NaN</td>\n",
       "      <td>NaN</td>\n",
       "      <td>5</td>\n",
       "    </tr>\n",
       "    <tr>\n",
       "      <th>1816</th>\n",
       "      <td>4620615</td>\n",
       "      <td>Di Cipriano de Rore Il Primo Libro de Madrigal...</td>\n",
       "      <td>NaN</td>\n",
       "      <td>NaN</td>\n",
       "      <td>Cipriano de Rore</td>\n",
       "      <td>1515-1565</td>\n",
       "      <td>NaN</td>\n",
       "      <td>1575</td>\n",
       "      <td>Italy</td>\n",
       "      <td>Venice</td>\n",
       "      <td>Angelo Gardano</td>\n",
       "      <td>Another copy of A.70.n.(1.) Basso.]</td>\n",
       "      <td>NaN</td>\n",
       "      <td>NaN</td>\n",
       "      <td>4</td>\n",
       "    </tr>\n",
       "    <tr>\n",
       "      <th>1519</th>\n",
       "      <td>4562972</td>\n",
       "      <td>Il Primo Libro de Madrigali a Cinque Voci ... ...</td>\n",
       "      <td>NaN</td>\n",
       "      <td>NaN</td>\n",
       "      <td>Santi Orlandi</td>\n",
       "      <td>1619</td>\n",
       "      <td>NaN</td>\n",
       "      <td>1602</td>\n",
       "      <td>Italy</td>\n",
       "      <td>Venice</td>\n",
       "      <td>Angelo Gardano</td>\n",
       "      <td>This work also contains madrigals by A. del Vi...</td>\n",
       "      <td>NaN</td>\n",
       "      <td>NaN</td>\n",
       "      <td>4</td>\n",
       "    </tr>\n",
       "    <tr>\n",
       "      <th>1841</th>\n",
       "      <td>4628404</td>\n",
       "      <td>Di Vicenzo Ruffo il Primo Libro di Madregali C...</td>\n",
       "      <td>NaN</td>\n",
       "      <td>NaN</td>\n",
       "      <td>Vincenzo Ruffo</td>\n",
       "      <td>1508-1587</td>\n",
       "      <td>NaN</td>\n",
       "      <td>1556</td>\n",
       "      <td>Italy</td>\n",
       "      <td>Venice</td>\n",
       "      <td>Antonio Gardano</td>\n",
       "      <td>Another copy of A.253.a. Bassus.]</td>\n",
       "      <td>NaN</td>\n",
       "      <td>NaN</td>\n",
       "      <td>4</td>\n",
       "    </tr>\n",
       "    <tr>\n",
       "      <th>1689</th>\n",
       "      <td>4587091</td>\n",
       "      <td>Di Francesco Portinaro il Primo Libro de Madri...</td>\n",
       "      <td>NaN</td>\n",
       "      <td>NaN</td>\n",
       "      <td>Francesco Portinaro</td>\n",
       "      <td>1520-1578</td>\n",
       "      <td>NaN</td>\n",
       "      <td>1550</td>\n",
       "      <td>Italy</td>\n",
       "      <td>Venice</td>\n",
       "      <td>Antonio Gardano</td>\n",
       "      <td>NaN</td>\n",
       "      <td>NaN</td>\n",
       "      <td>NaN</td>\n",
       "      <td>5</td>\n",
       "    </tr>\n",
       "    <tr>\n",
       "      <th>2116</th>\n",
       "      <td>4715716</td>\n",
       "      <td>Tutti li madrigali del primo et del secondo li...</td>\n",
       "      <td>Madrigals. voices (4)</td>\n",
       "      <td>NaN</td>\n",
       "      <td>Philippe Verdelot</td>\n",
       "      <td>1480-1530</td>\n",
       "      <td>Jacquet, of Mantua [composer] ; Barré, Leonard...</td>\n",
       "      <td>1565</td>\n",
       "      <td>Italy</td>\n",
       "      <td>Venice</td>\n",
       "      <td>Antonio Gardano</td>\n",
       "      <td>Collection of Italian madrigals in four parts ...</td>\n",
       "      <td>Si liet’e grata morte / Verdelot -- Madonna qu...</td>\n",
       "      <td>Madrigals, Italian</td>\n",
       "      <td>4</td>\n",
       "    </tr>\n",
       "    <tr>\n",
       "      <th>955</th>\n",
       "      <td>4468727</td>\n",
       "      <td>Di Orlando di Lassus il Primo Libro di Madriga...</td>\n",
       "      <td>Madrigals</td>\n",
       "      <td>NaN</td>\n",
       "      <td>Orlando di Lasso</td>\n",
       "      <td>1532-1594</td>\n",
       "      <td>NaN</td>\n",
       "      <td>1557</td>\n",
       "      <td>Italy</td>\n",
       "      <td>Venice</td>\n",
       "      <td>Antonio Gardano</td>\n",
       "      <td>NaN</td>\n",
       "      <td>NaN</td>\n",
       "      <td>NaN</td>\n",
       "      <td>5</td>\n",
       "    </tr>\n",
       "    <tr>\n",
       "      <th>1453</th>\n",
       "      <td>4551152</td>\n",
       "      <td>Di Pomponio Nenna ... Il Quarto Libro de Madri...</td>\n",
       "      <td>NaN</td>\n",
       "      <td>NaN</td>\n",
       "      <td>Pomponio Nenna</td>\n",
       "      <td>1550- 1613</td>\n",
       "      <td>NaN</td>\n",
       "      <td>1617</td>\n",
       "      <td>Italy</td>\n",
       "      <td>Venice</td>\n",
       "      <td>Bartholomeo Magni</td>\n",
       "      <td>NaN</td>\n",
       "      <td>NaN</td>\n",
       "      <td>NaN</td>\n",
       "      <td>5</td>\n",
       "    </tr>\n",
       "    <tr>\n",
       "      <th>422</th>\n",
       "      <td>4301291</td>\n",
       "      <td>Convivalium concentuum farrago, In welcher Deu...</td>\n",
       "      <td>NaN</td>\n",
       "      <td>NaN</td>\n",
       "      <td>Christoph Demantius</td>\n",
       "      <td>1567-1643</td>\n",
       "      <td>NaN</td>\n",
       "      <td>1609</td>\n",
       "      <td>Germany</td>\n",
       "      <td>Jena</td>\n",
       "      <td>Christoff Lippold, in verlegung David Kauffmanns</td>\n",
       "      <td>NaN</td>\n",
       "      <td>NaN</td>\n",
       "      <td>NaN</td>\n",
       "      <td>6; 8</td>\n",
       "    </tr>\n",
       "    <tr>\n",
       "      <th>2078</th>\n",
       "      <td>4711986</td>\n",
       "      <td>Di Vincenzo Ugolini Il Primo Libro de Madrigal...</td>\n",
       "      <td>NaN</td>\n",
       "      <td>NaN</td>\n",
       "      <td>Vincenzo Ugolini</td>\n",
       "      <td>1570-1638</td>\n",
       "      <td>NaN</td>\n",
       "      <td>1615</td>\n",
       "      <td>Italy</td>\n",
       "      <td>Venice</td>\n",
       "      <td>Giacomo Vincenti</td>\n",
       "      <td>NaN</td>\n",
       "      <td>NaN</td>\n",
       "      <td>NaN</td>\n",
       "      <td>5</td>\n",
       "    </tr>\n",
       "    <tr>\n",
       "      <th>2079</th>\n",
       "      <td>4711987</td>\n",
       "      <td>Di Vincenzo Ugolini Il Secondo Libro de Madrig...</td>\n",
       "      <td>NaN</td>\n",
       "      <td>NaN</td>\n",
       "      <td>Vincenzo Ugolini</td>\n",
       "      <td>1570-1638</td>\n",
       "      <td>NaN</td>\n",
       "      <td>1615</td>\n",
       "      <td>Italy</td>\n",
       "      <td>Venice</td>\n",
       "      <td>Giacomo Vincenti</td>\n",
       "      <td>NaN</td>\n",
       "      <td>NaN</td>\n",
       "      <td>NaN</td>\n",
       "      <td>5</td>\n",
       "    </tr>\n",
       "    <tr>\n",
       "      <th>1565</th>\n",
       "      <td>4567524</td>\n",
       "      <td>Di Benedetto Pallavicino Il Quinto Libro de' M...</td>\n",
       "      <td>NaN</td>\n",
       "      <td>NaN</td>\n",
       "      <td>Benedetto Pallavicino</td>\n",
       "      <td>1551-1601</td>\n",
       "      <td>NaN</td>\n",
       "      <td>1597</td>\n",
       "      <td>Italy</td>\n",
       "      <td>Venice</td>\n",
       "      <td>Giacomo Vincenti</td>\n",
       "      <td>NaN</td>\n",
       "      <td>NaN</td>\n",
       "      <td>NaN</td>\n",
       "      <td>5</td>\n",
       "    </tr>\n",
       "    <tr>\n",
       "      <th>51</th>\n",
       "      <td>4175547</td>\n",
       "      <td>Il primo libro de madrigali a quattro voci</td>\n",
       "      <td>Madrigals. voices (4). book 1. Selections</td>\n",
       "      <td>Madrigals</td>\n",
       "      <td>Jacob Arcadelt</td>\n",
       "      <td>1505-1568</td>\n",
       "      <td>Vincenti, Giacomo [printer] ; Arcadelt, Jacob,...</td>\n",
       "      <td>1597</td>\n",
       "      <td>Italy</td>\n",
       "      <td>Venice</td>\n",
       "      <td>Giacomo Vincenti</td>\n",
       "      <td>Collection of madrigals in four parts (SATB) ;...</td>\n",
       "      <td>Il bianco e dolce cigno / Archadelt -- Voi ve ...</td>\n",
       "      <td>Madrigals, Italian</td>\n",
       "      <td>4</td>\n",
       "    </tr>\n",
       "    <tr>\n",
       "      <th>1724</th>\n",
       "      <td>4593945</td>\n",
       "      <td>Baci Ardenti. Secondo Libro de' Madrigali a Ci...</td>\n",
       "      <td>NaN</td>\n",
       "      <td>NaN</td>\n",
       "      <td>Gabriello Puliti</td>\n",
       "      <td>1583-1644</td>\n",
       "      <td>NaN</td>\n",
       "      <td>1609</td>\n",
       "      <td>Italy</td>\n",
       "      <td>Venice</td>\n",
       "      <td>Giacomo Vincenti</td>\n",
       "      <td>NaN</td>\n",
       "      <td>NaN</td>\n",
       "      <td>NaN</td>\n",
       "      <td>5</td>\n",
       "    </tr>\n",
       "    <tr>\n",
       "      <th>1531</th>\n",
       "      <td>4565458</td>\n",
       "      <td>Madrigali a Quattro et a Cinque Voci. Parte co...</td>\n",
       "      <td>NaN</td>\n",
       "      <td>NaN</td>\n",
       "      <td>Pietro Pace</td>\n",
       "      <td>1559-1622</td>\n",
       "      <td>NaN</td>\n",
       "      <td>1617</td>\n",
       "      <td>Italy</td>\n",
       "      <td>Venice</td>\n",
       "      <td>Giacomo Vincenti</td>\n",
       "      <td>NaN</td>\n",
       "      <td>NaN</td>\n",
       "      <td>NaN</td>\n",
       "      <td>4; 5</td>\n",
       "    </tr>\n",
       "    <tr>\n",
       "      <th>1858</th>\n",
       "      <td>4630708</td>\n",
       "      <td>Di Hippolito Sabino il Quarto Libro de Madriga...</td>\n",
       "      <td>NaN</td>\n",
       "      <td>NaN</td>\n",
       "      <td>Hippolito Sabino</td>\n",
       "      <td>1550-1593</td>\n",
       "      <td>NaN</td>\n",
       "      <td>1585</td>\n",
       "      <td>Italy</td>\n",
       "      <td>Venice</td>\n",
       "      <td>Giacomo Vincenti, &amp; Ricciardo Amadino, compagni</td>\n",
       "      <td>NaN</td>\n",
       "      <td>NaN</td>\n",
       "      <td>NaN</td>\n",
       "      <td>4; 5; 6; 7; 8</td>\n",
       "    </tr>\n",
       "    <tr>\n",
       "      <th>239</th>\n",
       "      <td>4227912</td>\n",
       "      <td>Secondo libro delle Fiamme : madrigali a cinqu...</td>\n",
       "      <td>Fiamme. libro 2</td>\n",
       "      <td>Da' bei raggi ; Di questa biond’ &amp; vaga trecci...</td>\n",
       "      <td>Giulio Bonagiunta</td>\n",
       "      <td>1530-1571</td>\n",
       "      <td>Villabruna, Antonio [dedicatee] ; Merulo, Clau...</td>\n",
       "      <td>1567</td>\n",
       "      <td>Italy</td>\n",
       "      <td>Venice</td>\n",
       "      <td>Girolamo Scotto</td>\n",
       "      <td>Collection of madrigals and one motet (SATB5)....</td>\n",
       "      <td>Da bei raggi lucente (seconda parte: Qvindi gi...</td>\n",
       "      <td>Madrigals, Italian--16th century ; Motets</td>\n",
       "      <td>5; 6</td>\n",
       "    </tr>\n",
       "    <tr>\n",
       "      <th>1990</th>\n",
       "      <td>4686529</td>\n",
       "      <td>Il cicalamento delle donne al bucato, et la ca...</td>\n",
       "      <td>NaN</td>\n",
       "      <td>NaN</td>\n",
       "      <td>Alessandro Striggio</td>\n",
       "      <td>1536-1592</td>\n",
       "      <td>Bonagiunta, Giulio [compiler] ; Ferro da Macer...</td>\n",
       "      <td>1567</td>\n",
       "      <td>Italy</td>\n",
       "      <td>Venice</td>\n",
       "      <td>Girolamo Scotto</td>\n",
       "      <td>Collection of two comedy madrigals and a lamen...</td>\n",
       "      <td>[Del cicalamento delle donne] (prima parte a4:...</td>\n",
       "      <td>Laments ; Madrigals, Italian</td>\n",
       "      <td>4; 5; 6; 7</td>\n",
       "    </tr>\n",
       "    <tr>\n",
       "      <th>1992</th>\n",
       "      <td>4686537</td>\n",
       "      <td>Di Alessandro Striggio ... Il Primo libro dell...</td>\n",
       "      <td>NaN</td>\n",
       "      <td>NaN</td>\n",
       "      <td>Alessandro Striggio</td>\n",
       "      <td>1536-1592</td>\n",
       "      <td>NaN</td>\n",
       "      <td>1566</td>\n",
       "      <td>Italy</td>\n",
       "      <td>Venice</td>\n",
       "      <td>Girolamo Scotto</td>\n",
       "      <td>Another copy of C.254.c. Alto. (Tenore.) (Bass...</td>\n",
       "      <td>NaN</td>\n",
       "      <td>NaN</td>\n",
       "      <td>6</td>\n",
       "    </tr>\n",
       "    <tr>\n",
       "      <th>1298</th>\n",
       "      <td>4532936</td>\n",
       "      <td>Di M. Filippo di Monte ... Il Primo Libro dell...</td>\n",
       "      <td>NaN</td>\n",
       "      <td>NaN</td>\n",
       "      <td>Philippe de Monte</td>\n",
       "      <td>1521-1603</td>\n",
       "      <td>NaN</td>\n",
       "      <td>1570</td>\n",
       "      <td>Italy</td>\n",
       "      <td>Venice</td>\n",
       "      <td>Girolamo Scotto</td>\n",
       "      <td>NaN</td>\n",
       "      <td>NaN</td>\n",
       "      <td>NaN</td>\n",
       "      <td>5</td>\n",
       "    </tr>\n",
       "    <tr>\n",
       "      <th>1757</th>\n",
       "      <td>4603666</td>\n",
       "      <td>Newe Teutsche Lieder, Erstlich durch ... Jacob...</td>\n",
       "      <td>NaN</td>\n",
       "      <td>NaN</td>\n",
       "      <td>Jacob Regnart</td>\n",
       "      <td>1540-1599</td>\n",
       "      <td>Lechner, Leonhard</td>\n",
       "      <td>1579</td>\n",
       "      <td>Germany</td>\n",
       "      <td>Nuremberg</td>\n",
       "      <td>Katharina Gerlachin &amp; Johanns vom Berg Erben</td>\n",
       "      <td>NaN</td>\n",
       "      <td>NaN</td>\n",
       "      <td>NaN</td>\n",
       "      <td>3; 5</td>\n",
       "    </tr>\n",
       "    <tr>\n",
       "      <th>1860</th>\n",
       "      <td>4630897</td>\n",
       "      <td>Di Dauid Sacerdote di Roure, Hebreo, Il Primo ...</td>\n",
       "      <td>NaN</td>\n",
       "      <td>NaN</td>\n",
       "      <td>David Sacerdote</td>\n",
       "      <td>1550-1625</td>\n",
       "      <td>NaN</td>\n",
       "      <td>1575</td>\n",
       "      <td>Italy</td>\n",
       "      <td>Venice</td>\n",
       "      <td>Li Figliuoli di Antonio Gardano</td>\n",
       "      <td>NaN</td>\n",
       "      <td>NaN</td>\n",
       "      <td>NaN</td>\n",
       "      <td>6</td>\n",
       "    </tr>\n",
       "    <tr>\n",
       "      <th>1340</th>\n",
       "      <td>4533135</td>\n",
       "      <td>Il Terzo Libro de Madrigali a Cinque voci ... ...</td>\n",
       "      <td>Il terzo libro de madrigali</td>\n",
       "      <td>NaN</td>\n",
       "      <td>Claudio Monteverdi</td>\n",
       "      <td>1567-1643</td>\n",
       "      <td>NaN</td>\n",
       "      <td>1621</td>\n",
       "      <td>Italy</td>\n",
       "      <td>Venice</td>\n",
       "      <td>Stampa del Gardano Bartholomeo Magni</td>\n",
       "      <td>NaN</td>\n",
       "      <td>NaN</td>\n",
       "      <td>NaN</td>\n",
       "      <td>5</td>\n",
       "    </tr>\n",
       "    <tr>\n",
       "      <th>1387</th>\n",
       "      <td>4536525</td>\n",
       "      <td>Madrigalls to Foure Voyces newly published ......</td>\n",
       "      <td>Madrigals. voices (4). bk. 1</td>\n",
       "      <td>NaN</td>\n",
       "      <td>Thomas Morley</td>\n",
       "      <td>1557-1603</td>\n",
       "      <td>NaN</td>\n",
       "      <td>1594</td>\n",
       "      <td>England</td>\n",
       "      <td>London</td>\n",
       "      <td>Thomas Este</td>\n",
       "      <td>Another copy of K.3.i.13</td>\n",
       "      <td>NaN</td>\n",
       "      <td>NaN</td>\n",
       "      <td>4</td>\n",
       "    </tr>\n",
       "    <tr>\n",
       "      <th>2381</th>\n",
       "      <td>4759628</td>\n",
       "      <td>Musica Transalpina. Cantus. (Altus.) (Tenor.) ...</td>\n",
       "      <td>NaN</td>\n",
       "      <td>NaN</td>\n",
       "      <td>Nicholas Yonge</td>\n",
       "      <td>1560-1619</td>\n",
       "      <td>NaN</td>\n",
       "      <td>1588</td>\n",
       "      <td>England</td>\n",
       "      <td>London</td>\n",
       "      <td>Thomas Este</td>\n",
       "      <td>Another copy of K.3.k.19</td>\n",
       "      <td>NaN</td>\n",
       "      <td>NaN</td>\n",
       "      <td>4; 5; 6</td>\n",
       "    </tr>\n",
       "    <tr>\n",
       "      <th>1673</th>\n",
       "      <td>4581985</td>\n",
       "      <td>The Second Set of Madrigals, and Pastorals, of...</td>\n",
       "      <td>Second Set of Madrigals</td>\n",
       "      <td>NaN</td>\n",
       "      <td>Francis Pilkington</td>\n",
       "      <td>1562-1638</td>\n",
       "      <td>NaN</td>\n",
       "      <td>1624</td>\n",
       "      <td>England</td>\n",
       "      <td>London</td>\n",
       "      <td>Thomas Snodham</td>\n",
       "      <td>Another copy of K.2.d.11. Bassus.]</td>\n",
       "      <td>NaN</td>\n",
       "      <td>NaN</td>\n",
       "      <td>3; 4; 5; 6</td>\n",
       "    </tr>\n",
       "    <tr>\n",
       "      <th>1289</th>\n",
       "      <td>4532927</td>\n",
       "      <td>Di Filippo di Monte ... Il Primo Libro delli M...</td>\n",
       "      <td>NaN</td>\n",
       "      <td>NaN</td>\n",
       "      <td>Philippe de Monte</td>\n",
       "      <td>1521-1603</td>\n",
       "      <td>NaN</td>\n",
       "      <td>1574</td>\n",
       "      <td>Italy</td>\n",
       "      <td>Venice</td>\n",
       "      <td>l'Herede di Girolamo Scotto</td>\n",
       "      <td>NaN</td>\n",
       "      <td>NaN</td>\n",
       "      <td>NaN</td>\n",
       "      <td>6</td>\n",
       "    </tr>\n",
       "    <tr>\n",
       "      <th>1995</th>\n",
       "      <td>4686540</td>\n",
       "      <td>Il primo libro delli madrigali a sei voci</td>\n",
       "      <td>Madrigals. voices (6). book 1</td>\n",
       "      <td>Madrigals ; Alma mia fiamma oltra</td>\n",
       "      <td>Alessandro Striggio</td>\n",
       "      <td>1536-1592</td>\n",
       "      <td>Striggio, Alessandro, book 1, I dolci colli ov...</td>\n",
       "      <td>1578</td>\n",
       "      <td>Italy</td>\n",
       "      <td>Venice</td>\n",
       "      <td>l'Herede di Girolamo Scotto</td>\n",
       "      <td>Collection of madrigals in 6 parts (SATB56). L...</td>\n",
       "      <td>I Dolci colli ou'io lasciai me stesso -- (seco...</td>\n",
       "      <td>Madrigals, Italian--16th century</td>\n",
       "      <td>6</td>\n",
       "    </tr>\n",
       "    <tr>\n",
       "      <th>1312</th>\n",
       "      <td>4532950</td>\n",
       "      <td>Di Filippo di Monte ... Il Nono libro de Madri...</td>\n",
       "      <td>NaN</td>\n",
       "      <td>NaN</td>\n",
       "      <td>Philippe de Monte</td>\n",
       "      <td>1521-1603</td>\n",
       "      <td>NaN</td>\n",
       "      <td>1580</td>\n",
       "      <td>Italy</td>\n",
       "      <td>Venice</td>\n",
       "      <td>l'Herede di Girolamo Scotto</td>\n",
       "      <td>Another copy of D.160.e. Quinto.]</td>\n",
       "      <td>NaN</td>\n",
       "      <td>NaN</td>\n",
       "      <td>5</td>\n",
       "    </tr>\n",
       "    <tr>\n",
       "      <th>1174</th>\n",
       "      <td>4507604</td>\n",
       "      <td>Di Luca Marentio il Quinto Libro de Madrigali ...</td>\n",
       "      <td>NaN</td>\n",
       "      <td>NaN</td>\n",
       "      <td>Luca Marenzio</td>\n",
       "      <td>1553-1599</td>\n",
       "      <td>NaN</td>\n",
       "      <td>1588</td>\n",
       "      <td>Italy</td>\n",
       "      <td>Venice</td>\n",
       "      <td>l'Herede di Girolamo Scotto</td>\n",
       "      <td>NaN</td>\n",
       "      <td>NaN</td>\n",
       "      <td>NaN</td>\n",
       "      <td>5</td>\n",
       "    </tr>\n",
       "  </tbody>\n",
       "</table>\n",
       "</div>"
      ],
      "text/plain": [
       "         BL_record_ID                                              Title  \\\n",
       "Column1                                                                    \n",
       "1643          4577492  Il Primo Libro de' Madrigali a Due Tre e Quatt...   \n",
       "1322          4532960  Di Filippo di Monte ... Il Primo Libro de Madr...   \n",
       "719           4361050  Di Ruggiero Giouannelli ... il Primo Libro de ...   \n",
       "720           4361051  Di Ruggiero Giouannelli ... Il Primo Libro de ...   \n",
       "2271          4738905  Di Giaches de Wert Il Decimo Libro de Madrigal...   \n",
       "2264          4738897  Di Giaches de Wert Il Quinto Libro de Madrigal...   \n",
       "1164          4507593  Di Luca Marenzio il Terzo Libro de Madrigali a...   \n",
       "2256          4738887  Di Giaches de Wert Il Primo Libro de Madrigali...   \n",
       "1245          4518366  Il Quinto Libro de Madrigali a Cinque Voci ......   \n",
       "869           4431676  Il Secondo Libro de Madrigali a Cinque Voci .....   \n",
       "1634          4574345  Del Sig. Tomaso Pecci Madrigali a Cinque Voci,...   \n",
       "1816          4620615  Di Cipriano de Rore Il Primo Libro de Madrigal...   \n",
       "1519          4562972  Il Primo Libro de Madrigali a Cinque Voci ... ...   \n",
       "1841          4628404  Di Vicenzo Ruffo il Primo Libro di Madregali C...   \n",
       "1689          4587091  Di Francesco Portinaro il Primo Libro de Madri...   \n",
       "2116          4715716  Tutti li madrigali del primo et del secondo li...   \n",
       "955           4468727  Di Orlando di Lassus il Primo Libro di Madriga...   \n",
       "1453          4551152  Di Pomponio Nenna ... Il Quarto Libro de Madri...   \n",
       "422           4301291  Convivalium concentuum farrago, In welcher Deu...   \n",
       "2078          4711986  Di Vincenzo Ugolini Il Primo Libro de Madrigal...   \n",
       "2079          4711987  Di Vincenzo Ugolini Il Secondo Libro de Madrig...   \n",
       "1565          4567524  Di Benedetto Pallavicino Il Quinto Libro de' M...   \n",
       "51            4175547         Il primo libro de madrigali a quattro voci   \n",
       "1724          4593945  Baci Ardenti. Secondo Libro de' Madrigali a Ci...   \n",
       "1531          4565458  Madrigali a Quattro et a Cinque Voci. Parte co...   \n",
       "1858          4630708  Di Hippolito Sabino il Quarto Libro de Madriga...   \n",
       "239           4227912  Secondo libro delle Fiamme : madrigali a cinqu...   \n",
       "1990          4686529  Il cicalamento delle donne al bucato, et la ca...   \n",
       "1992          4686537  Di Alessandro Striggio ... Il Primo libro dell...   \n",
       "1298          4532936  Di M. Filippo di Monte ... Il Primo Libro dell...   \n",
       "1757          4603666  Newe Teutsche Lieder, Erstlich durch ... Jacob...   \n",
       "1860          4630897  Di Dauid Sacerdote di Roure, Hebreo, Il Primo ...   \n",
       "1340          4533135  Il Terzo Libro de Madrigali a Cinque voci ... ...   \n",
       "1387          4536525  Madrigalls to Foure Voyces newly published ......   \n",
       "2381          4759628  Musica Transalpina. Cantus. (Altus.) (Tenor.) ...   \n",
       "1673          4581985  The Second Set of Madrigals, and Pastorals, of...   \n",
       "1289          4532927  Di Filippo di Monte ... Il Primo Libro delli M...   \n",
       "1995          4686540          Il primo libro delli madrigali a sei voci   \n",
       "1312          4532950  Di Filippo di Monte ... Il Nono libro de Madri...   \n",
       "1174          4507604  Di Luca Marentio il Quinto Libro de Madrigali ...   \n",
       "\n",
       "                                Standardised_title  \\\n",
       "Column1                                              \n",
       "1643                                           NaN   \n",
       "1322                                           NaN   \n",
       "719                                            NaN   \n",
       "720                                            NaN   \n",
       "2271                                           NaN   \n",
       "2264                                           NaN   \n",
       "1164     Il terzo libro de madrigali a cinque voci   \n",
       "2256                                           NaN   \n",
       "1245                                           NaN   \n",
       "869                   Madrigals. voices (5). bk. 2   \n",
       "1634                                           NaN   \n",
       "1816                                           NaN   \n",
       "1519                                           NaN   \n",
       "1841                                           NaN   \n",
       "1689                                           NaN   \n",
       "2116                         Madrigals. voices (4)   \n",
       "955                                      Madrigals   \n",
       "1453                                           NaN   \n",
       "422                                            NaN   \n",
       "2078                                           NaN   \n",
       "2079                                           NaN   \n",
       "1565                                           NaN   \n",
       "51       Madrigals. voices (4). book 1. Selections   \n",
       "1724                                           NaN   \n",
       "1531                                           NaN   \n",
       "1858                                           NaN   \n",
       "239                                Fiamme. libro 2   \n",
       "1990                                           NaN   \n",
       "1992                                           NaN   \n",
       "1298                                           NaN   \n",
       "1757                                           NaN   \n",
       "1860                                           NaN   \n",
       "1340                   Il terzo libro de madrigali   \n",
       "1387                  Madrigals. voices (4). bk. 1   \n",
       "2381                                           NaN   \n",
       "1673                       Second Set of Madrigals   \n",
       "1289                                           NaN   \n",
       "1995                 Madrigals. voices (6). book 1   \n",
       "1312                                           NaN   \n",
       "1174                                           NaN   \n",
       "\n",
       "                                              Other_titles  \\\n",
       "Column1                                                      \n",
       "1643                                                   NaN   \n",
       "1322                                                   NaN   \n",
       "719                                                    NaN   \n",
       "720                                                    NaN   \n",
       "2271                                                   NaN   \n",
       "2264                                                   NaN   \n",
       "1164                                                   NaN   \n",
       "2256                                                   NaN   \n",
       "1245                                                   NaN   \n",
       "869                                                    NaN   \n",
       "1634                                                   NaN   \n",
       "1816                                                   NaN   \n",
       "1519                                                   NaN   \n",
       "1841                                                   NaN   \n",
       "1689                                                   NaN   \n",
       "2116                                                   NaN   \n",
       "955                                                    NaN   \n",
       "1453                                                   NaN   \n",
       "422                                                    NaN   \n",
       "2078                                                   NaN   \n",
       "2079                                                   NaN   \n",
       "1565                                                   NaN   \n",
       "51                                               Madrigals   \n",
       "1724                                                   NaN   \n",
       "1531                                                   NaN   \n",
       "1858                                                   NaN   \n",
       "239      Da' bei raggi ; Di questa biond’ & vaga trecci...   \n",
       "1990                                                   NaN   \n",
       "1992                                                   NaN   \n",
       "1298                                                   NaN   \n",
       "1757                                                   NaN   \n",
       "1860                                                   NaN   \n",
       "1340                                                   NaN   \n",
       "1387                                                   NaN   \n",
       "2381                                                   NaN   \n",
       "1673                                                   NaN   \n",
       "1289                                                   NaN   \n",
       "1995                     Madrigals ; Alma mia fiamma oltra   \n",
       "1312                                                   NaN   \n",
       "1174                                                   NaN   \n",
       "\n",
       "                      Composer Composer_life_dates  \\\n",
       "Column1                                              \n",
       "1643           Martino Pesenti           1600-1648   \n",
       "1322         Philippe de Monte           1521-1603   \n",
       "719       Ruggiero Giovannelli           1560-1625   \n",
       "720       Ruggiero Giovannelli           1560-1625   \n",
       "2271           Giaches de Wert           1535-1596   \n",
       "2264           Giaches de Wert           1535-1596   \n",
       "1164             Luca Marenzio           1553-1599   \n",
       "2256           Giaches de Wert           1535-1596   \n",
       "1245           Rinaldo del Mel           1554-1598   \n",
       "869              Paolo Isnardi           1536-1596   \n",
       "1634              Tomaso Pecci           1576-1606   \n",
       "1816          Cipriano de Rore           1515-1565   \n",
       "1519             Santi Orlandi                1619   \n",
       "1841            Vincenzo Ruffo           1508-1587   \n",
       "1689       Francesco Portinaro           1520-1578   \n",
       "2116         Philippe Verdelot           1480-1530   \n",
       "955           Orlando di Lasso           1532-1594   \n",
       "1453            Pomponio Nenna          1550- 1613   \n",
       "422        Christoph Demantius           1567-1643   \n",
       "2078          Vincenzo Ugolini           1570-1638   \n",
       "2079          Vincenzo Ugolini           1570-1638   \n",
       "1565     Benedetto Pallavicino           1551-1601   \n",
       "51              Jacob Arcadelt           1505-1568   \n",
       "1724          Gabriello Puliti           1583-1644   \n",
       "1531               Pietro Pace           1559-1622   \n",
       "1858          Hippolito Sabino           1550-1593   \n",
       "239          Giulio Bonagiunta           1530-1571   \n",
       "1990       Alessandro Striggio           1536-1592   \n",
       "1992       Alessandro Striggio           1536-1592   \n",
       "1298         Philippe de Monte           1521-1603   \n",
       "1757             Jacob Regnart           1540-1599   \n",
       "1860           David Sacerdote           1550-1625   \n",
       "1340        Claudio Monteverdi           1567-1643   \n",
       "1387             Thomas Morley           1557-1603   \n",
       "2381            Nicholas Yonge           1560-1619   \n",
       "1673        Francis Pilkington           1562-1638   \n",
       "1289         Philippe de Monte           1521-1603   \n",
       "1995       Alessandro Striggio           1536-1592   \n",
       "1312         Philippe de Monte           1521-1603   \n",
       "1174             Luca Marenzio           1553-1599   \n",
       "\n",
       "                                               Other_names  \\\n",
       "Column1                                                      \n",
       "1643                                                   NaN   \n",
       "1322                                                   NaN   \n",
       "719                                                    NaN   \n",
       "720                                                    NaN   \n",
       "2271                                                   NaN   \n",
       "2264                                                   NaN   \n",
       "1164                                                   NaN   \n",
       "2256                                                   NaN   \n",
       "1245                                                   NaN   \n",
       "869                                                    NaN   \n",
       "1634                                                   NaN   \n",
       "1816                                                   NaN   \n",
       "1519                                                   NaN   \n",
       "1841                                                   NaN   \n",
       "1689                                                   NaN   \n",
       "2116     Jacquet, of Mantua [composer] ; Barré, Leonard...   \n",
       "955                                                    NaN   \n",
       "1453                                                   NaN   \n",
       "422                                                    NaN   \n",
       "2078                                                   NaN   \n",
       "2079                                                   NaN   \n",
       "1565                                                   NaN   \n",
       "51       Vincenti, Giacomo [printer] ; Arcadelt, Jacob,...   \n",
       "1724                                                   NaN   \n",
       "1531                                                   NaN   \n",
       "1858                                                   NaN   \n",
       "239      Villabruna, Antonio [dedicatee] ; Merulo, Clau...   \n",
       "1990     Bonagiunta, Giulio [compiler] ; Ferro da Macer...   \n",
       "1992                                                   NaN   \n",
       "1298                                                   NaN   \n",
       "1757                                     Lechner, Leonhard   \n",
       "1860                                                   NaN   \n",
       "1340                                                   NaN   \n",
       "1387                                                   NaN   \n",
       "2381                                                   NaN   \n",
       "1673                                                   NaN   \n",
       "1289                                                   NaN   \n",
       "1995     Striggio, Alessandro, book 1, I dolci colli ov...   \n",
       "1312                                                   NaN   \n",
       "1174                                                   NaN   \n",
       "\n",
       "        Publication_date_(standardised) Country_of_publication  \\\n",
       "Column1                                                          \n",
       "1643                               1628                  Italy   \n",
       "1322                               1581                  Italy   \n",
       "719                                1588                  Italy   \n",
       "720                                1594                  Italy   \n",
       "2271                               1591                  Italy   \n",
       "2264                               1580                  Italy   \n",
       "1164                               1582                  Italy   \n",
       "2256                               1583                  Italy   \n",
       "1245                               1594                  Italy   \n",
       "869                                1577                  Italy   \n",
       "1634                               1602                  Italy   \n",
       "1816                               1575                  Italy   \n",
       "1519                               1602                  Italy   \n",
       "1841                               1556                  Italy   \n",
       "1689                               1550                  Italy   \n",
       "2116                               1565                  Italy   \n",
       "955                                1557                  Italy   \n",
       "1453                               1617                  Italy   \n",
       "422                                1609                Germany   \n",
       "2078                               1615                  Italy   \n",
       "2079                               1615                  Italy   \n",
       "1565                               1597                  Italy   \n",
       "51                                 1597                  Italy   \n",
       "1724                               1609                  Italy   \n",
       "1531                               1617                  Italy   \n",
       "1858                               1585                  Italy   \n",
       "239                                1567                  Italy   \n",
       "1990                               1567                  Italy   \n",
       "1992                               1566                  Italy   \n",
       "1298                               1570                  Italy   \n",
       "1757                               1579                Germany   \n",
       "1860                               1575                  Italy   \n",
       "1340                               1621                  Italy   \n",
       "1387                               1594                England   \n",
       "2381                               1588                England   \n",
       "1673                               1624                England   \n",
       "1289                               1574                  Italy   \n",
       "1995                               1578                  Italy   \n",
       "1312                               1580                  Italy   \n",
       "1174                               1588                  Italy   \n",
       "\n",
       "        Place_of_publication  \\\n",
       "Column1                        \n",
       "1643                  Venice   \n",
       "1322                  Venice   \n",
       "719                   Venice   \n",
       "720                   Venice   \n",
       "2271                  Venice   \n",
       "2264                  Venice   \n",
       "1164                  Venice   \n",
       "2256                  Venice   \n",
       "1245                  Venice   \n",
       "869                   Venice   \n",
       "1634                  Venice   \n",
       "1816                  Venice   \n",
       "1519                  Venice   \n",
       "1841                  Venice   \n",
       "1689                  Venice   \n",
       "2116                  Venice   \n",
       "955                   Venice   \n",
       "1453                  Venice   \n",
       "422                     Jena   \n",
       "2078                  Venice   \n",
       "2079                  Venice   \n",
       "1565                  Venice   \n",
       "51                    Venice   \n",
       "1724                  Venice   \n",
       "1531                  Venice   \n",
       "1858                  Venice   \n",
       "239                   Venice   \n",
       "1990                  Venice   \n",
       "1992                  Venice   \n",
       "1298                  Venice   \n",
       "1757               Nuremberg   \n",
       "1860                  Venice   \n",
       "1340                  Venice   \n",
       "1387                  London   \n",
       "2381                  London   \n",
       "1673                  London   \n",
       "1289                  Venice   \n",
       "1995                  Venice   \n",
       "1312                  Venice   \n",
       "1174                  Venice   \n",
       "\n",
       "                                                Publisher  \\\n",
       "Column1                                                     \n",
       "1643                                  Alessandro Vincenti   \n",
       "1322                                       Angelo Gardano   \n",
       "719                                        Angelo Gardano   \n",
       "720                                        Angelo Gardano   \n",
       "2271                                       Angelo Gardano   \n",
       "2264                                       Angelo Gardano   \n",
       "1164                                       Angelo Gardano   \n",
       "2256                                       Angelo Gardano   \n",
       "1245                                       Angelo Gardano   \n",
       "869                                        Angelo Gardano   \n",
       "1634                                       Angelo Gardano   \n",
       "1816                                       Angelo Gardano   \n",
       "1519                                       Angelo Gardano   \n",
       "1841                                      Antonio Gardano   \n",
       "1689                                      Antonio Gardano   \n",
       "2116                                      Antonio Gardano   \n",
       "955                                       Antonio Gardano   \n",
       "1453                                    Bartholomeo Magni   \n",
       "422      Christoff Lippold, in verlegung David Kauffmanns   \n",
       "2078                                     Giacomo Vincenti   \n",
       "2079                                     Giacomo Vincenti   \n",
       "1565                                     Giacomo Vincenti   \n",
       "51                                       Giacomo Vincenti   \n",
       "1724                                     Giacomo Vincenti   \n",
       "1531                                     Giacomo Vincenti   \n",
       "1858      Giacomo Vincenti, & Ricciardo Amadino, compagni   \n",
       "239                                       Girolamo Scotto   \n",
       "1990                                      Girolamo Scotto   \n",
       "1992                                      Girolamo Scotto   \n",
       "1298                                      Girolamo Scotto   \n",
       "1757         Katharina Gerlachin & Johanns vom Berg Erben   \n",
       "1860                      Li Figliuoli di Antonio Gardano   \n",
       "1340                 Stampa del Gardano Bartholomeo Magni   \n",
       "1387                                          Thomas Este   \n",
       "2381                                          Thomas Este   \n",
       "1673                                       Thomas Snodham   \n",
       "1289                          l'Herede di Girolamo Scotto   \n",
       "1995                          l'Herede di Girolamo Scotto   \n",
       "1312                          l'Herede di Girolamo Scotto   \n",
       "1174                          l'Herede di Girolamo Scotto   \n",
       "\n",
       "                                                     Notes  \\\n",
       "Column1                                                      \n",
       "1643                                                   NaN   \n",
       "1322                                                   NaN   \n",
       "719                                                    NaN   \n",
       "720                                                    NaN   \n",
       "2271                                                   NaN   \n",
       "2264                                                   NaN   \n",
       "1164                       Another copy of Hirsch iii .913   \n",
       "2256                                                   NaN   \n",
       "1245                                                   NaN   \n",
       "869                                                    NaN   \n",
       "1634       This work contains two madrigals by M. Tantucci   \n",
       "1816                   Another copy of A.70.n.(1.) Basso.]   \n",
       "1519     This work also contains madrigals by A. del Vi...   \n",
       "1841                     Another copy of A.253.a. Bassus.]   \n",
       "1689                                                   NaN   \n",
       "2116     Collection of Italian madrigals in four parts ...   \n",
       "955                                                    NaN   \n",
       "1453                                                   NaN   \n",
       "422                                                    NaN   \n",
       "2078                                                   NaN   \n",
       "2079                                                   NaN   \n",
       "1565                                                   NaN   \n",
       "51       Collection of madrigals in four parts (SATB) ;...   \n",
       "1724                                                   NaN   \n",
       "1531                                                   NaN   \n",
       "1858                                                   NaN   \n",
       "239      Collection of madrigals and one motet (SATB5)....   \n",
       "1990     Collection of two comedy madrigals and a lamen...   \n",
       "1992     Another copy of C.254.c. Alto. (Tenore.) (Bass...   \n",
       "1298                                                   NaN   \n",
       "1757                                                   NaN   \n",
       "1860                                                   NaN   \n",
       "1340                                                   NaN   \n",
       "1387                              Another copy of K.3.i.13   \n",
       "2381                              Another copy of K.3.k.19   \n",
       "1673                    Another copy of K.2.d.11. Bassus.]   \n",
       "1289                                                   NaN   \n",
       "1995     Collection of madrigals in 6 parts (SATB56). L...   \n",
       "1312                     Another copy of D.160.e. Quinto.]   \n",
       "1174                                                   NaN   \n",
       "\n",
       "                                                  Contents  \\\n",
       "Column1                                                      \n",
       "1643                                                   NaN   \n",
       "1322                                                   NaN   \n",
       "719                                                    NaN   \n",
       "720                                                    NaN   \n",
       "2271                                                   NaN   \n",
       "2264                                                   NaN   \n",
       "1164                                                   NaN   \n",
       "2256                                                   NaN   \n",
       "1245                                                   NaN   \n",
       "869                                                    NaN   \n",
       "1634                                                   NaN   \n",
       "1816                                                   NaN   \n",
       "1519                                                   NaN   \n",
       "1841                                                   NaN   \n",
       "1689                                                   NaN   \n",
       "2116     Si liet’e grata morte / Verdelot -- Madonna qu...   \n",
       "955                                                    NaN   \n",
       "1453                                                   NaN   \n",
       "422                                                    NaN   \n",
       "2078                                                   NaN   \n",
       "2079                                                   NaN   \n",
       "1565                                                   NaN   \n",
       "51       Il bianco e dolce cigno / Archadelt -- Voi ve ...   \n",
       "1724                                                   NaN   \n",
       "1531                                                   NaN   \n",
       "1858                                                   NaN   \n",
       "239      Da bei raggi lucente (seconda parte: Qvindi gi...   \n",
       "1990     [Del cicalamento delle donne] (prima parte a4:...   \n",
       "1992                                                   NaN   \n",
       "1298                                                   NaN   \n",
       "1757                                                   NaN   \n",
       "1860                                                   NaN   \n",
       "1340                                                   NaN   \n",
       "1387                                                   NaN   \n",
       "2381                                                   NaN   \n",
       "1673                                                   NaN   \n",
       "1289                                                   NaN   \n",
       "1995     I Dolci colli ou'io lasciai me stesso -- (seco...   \n",
       "1312                                                   NaN   \n",
       "1174                                                   NaN   \n",
       "\n",
       "                                       Subject/genre_terms         Voices  \n",
       "Column1                                                                    \n",
       "1643                                                   NaN        2; 3; 4  \n",
       "1322                                                   NaN              5  \n",
       "719                                                    NaN              5  \n",
       "720                                                    NaN              5  \n",
       "2271                                                   NaN              5  \n",
       "2264                                                   NaN        5; 6; 7  \n",
       "1164                                                   NaN              5  \n",
       "2256                                                   NaN              5  \n",
       "1245                                                   NaN              5  \n",
       "869      Choruses, Secular (Mixed voices, 5 parts), Una...              5  \n",
       "1634                                                   NaN              5  \n",
       "1816                                                   NaN              4  \n",
       "1519                                                   NaN              4  \n",
       "1841                                                   NaN              4  \n",
       "1689                                                   NaN              5  \n",
       "2116                                    Madrigals, Italian              4  \n",
       "955                                                    NaN              5  \n",
       "1453                                                   NaN              5  \n",
       "422                                                    NaN           6; 8  \n",
       "2078                                                   NaN              5  \n",
       "2079                                                   NaN              5  \n",
       "1565                                                   NaN              5  \n",
       "51                                      Madrigals, Italian              4  \n",
       "1724                                                   NaN              5  \n",
       "1531                                                   NaN           4; 5  \n",
       "1858                                                   NaN  4; 5; 6; 7; 8  \n",
       "239              Madrigals, Italian--16th century ; Motets           5; 6  \n",
       "1990                          Laments ; Madrigals, Italian     4; 5; 6; 7  \n",
       "1992                                                   NaN              6  \n",
       "1298                                                   NaN              5  \n",
       "1757                                                   NaN           3; 5  \n",
       "1860                                                   NaN              6  \n",
       "1340                                                   NaN              5  \n",
       "1387                                                   NaN              4  \n",
       "2381                                                   NaN        4; 5; 6  \n",
       "1673                                                   NaN     3; 4; 5; 6  \n",
       "1289                                                   NaN              6  \n",
       "1995                      Madrigals, Italian--16th century              6  \n",
       "1312                                                   NaN              5  \n",
       "1174                                                   NaN              5  "
      ]
     },
     "execution_count": 10,
     "metadata": {},
     "output_type": "execute_result"
    }
   ],
   "source": [
    "st = data.sort_values(by=['Publisher'])\n",
    "st"
   ]
  },
  {
   "cell_type": "code",
   "execution_count": 11,
   "id": "7d4c076f",
   "metadata": {},
   "outputs": [
    {
     "data": {
      "text/plain": [
       "Philippe de Monte        4\n",
       "Alessandro Striggio      3\n",
       "Giaches de Wert          3\n",
       "Vincenzo Ugolini         2\n",
       "Ruggiero Giovannelli     2\n",
       "Luca Marenzio            2\n",
       "Tomaso Pecci             1\n",
       "Claudio Monteverdi       1\n",
       "Pomponio Nenna           1\n",
       "Giulio Bonagiunta        1\n",
       "Francis Pilkington       1\n",
       "David Sacerdote          1\n",
       "Philippe Verdelot        1\n",
       "Orlando di Lasso         1\n",
       "Jacob Regnart            1\n",
       "Martino Pesenti          1\n",
       "Christoph Demantius      1\n",
       "Hippolito Sabino         1\n",
       "Thomas Morley            1\n",
       "Nicholas Yonge           1\n",
       "Rinaldo del Mel          1\n",
       "Jacob Arcadelt           1\n",
       "Paolo Isnardi            1\n",
       "Benedetto Pallavicino    1\n",
       "Pietro Pace              1\n",
       "Santi Orlandi            1\n",
       "Cipriano de Rore         1\n",
       "Gabriello Puliti         1\n",
       "Francesco Portinaro      1\n",
       "Vincenzo Ruffo           1\n",
       "Name: Composer, dtype: int64"
      ]
     },
     "execution_count": 11,
     "metadata": {},
     "output_type": "execute_result"
    }
   ],
   "source": [
    "topp = data['Composer'].value_counts()\n",
    "topp = topp.head(30)\n",
    "topp"
   ]
  },
  {
   "cell_type": "code",
   "execution_count": 12,
   "id": "b58bbc3b",
   "metadata": {},
   "outputs": [
    {
     "data": {
      "application/vnd.plotly.v1+json": {
       "config": {
        "plotlyServerURL": "https://plot.ly"
       },
       "data": [
        {
         "alignmentgroup": "True",
         "hovertemplate": "variable=Composer<br>index=%{x}<br>value=%{y}<extra></extra>",
         "legendgroup": "Composer",
         "marker": {
          "color": "#636efa",
          "pattern": {
           "shape": ""
          }
         },
         "name": "Composer",
         "offsetgroup": "Composer",
         "orientation": "v",
         "showlegend": true,
         "textposition": "auto",
         "type": "bar",
         "x": [
          "Philippe de Monte",
          "Alessandro Striggio",
          "Giaches de Wert",
          "Vincenzo Ugolini",
          "Ruggiero Giovannelli",
          "Luca Marenzio",
          "Tomaso Pecci",
          "Claudio Monteverdi",
          "Pomponio Nenna",
          "Giulio Bonagiunta",
          "Francis Pilkington",
          "David Sacerdote",
          "Philippe Verdelot",
          "Orlando di Lasso",
          "Jacob Regnart",
          "Martino Pesenti",
          "Christoph Demantius",
          "Hippolito Sabino",
          "Thomas Morley",
          "Nicholas Yonge",
          "Rinaldo del Mel",
          "Jacob Arcadelt",
          "Paolo Isnardi",
          "Benedetto Pallavicino",
          "Pietro Pace",
          "Santi Orlandi",
          "Cipriano de Rore",
          "Gabriello Puliti",
          "Francesco Portinaro",
          "Vincenzo Ruffo"
         ],
         "xaxis": "x",
         "y": [
          4,
          3,
          3,
          2,
          2,
          2,
          1,
          1,
          1,
          1,
          1,
          1,
          1,
          1,
          1,
          1,
          1,
          1,
          1,
          1,
          1,
          1,
          1,
          1,
          1,
          1,
          1,
          1,
          1,
          1
         ],
         "yaxis": "y"
        }
       ],
       "layout": {
        "barmode": "relative",
        "legend": {
         "title": {
          "text": "variable"
         },
         "tracegroupgap": 0
        },
        "margin": {
         "t": 60
        },
        "template": {
         "data": {
          "bar": [
           {
            "error_x": {
             "color": "#2a3f5f"
            },
            "error_y": {
             "color": "#2a3f5f"
            },
            "marker": {
             "line": {
              "color": "#E5ECF6",
              "width": 0.5
             },
             "pattern": {
              "fillmode": "overlay",
              "size": 10,
              "solidity": 0.2
             }
            },
            "type": "bar"
           }
          ],
          "barpolar": [
           {
            "marker": {
             "line": {
              "color": "#E5ECF6",
              "width": 0.5
             },
             "pattern": {
              "fillmode": "overlay",
              "size": 10,
              "solidity": 0.2
             }
            },
            "type": "barpolar"
           }
          ],
          "carpet": [
           {
            "aaxis": {
             "endlinecolor": "#2a3f5f",
             "gridcolor": "white",
             "linecolor": "white",
             "minorgridcolor": "white",
             "startlinecolor": "#2a3f5f"
            },
            "baxis": {
             "endlinecolor": "#2a3f5f",
             "gridcolor": "white",
             "linecolor": "white",
             "minorgridcolor": "white",
             "startlinecolor": "#2a3f5f"
            },
            "type": "carpet"
           }
          ],
          "choropleth": [
           {
            "colorbar": {
             "outlinewidth": 0,
             "ticks": ""
            },
            "type": "choropleth"
           }
          ],
          "contour": [
           {
            "colorbar": {
             "outlinewidth": 0,
             "ticks": ""
            },
            "colorscale": [
             [
              0,
              "#0d0887"
             ],
             [
              0.1111111111111111,
              "#46039f"
             ],
             [
              0.2222222222222222,
              "#7201a8"
             ],
             [
              0.3333333333333333,
              "#9c179e"
             ],
             [
              0.4444444444444444,
              "#bd3786"
             ],
             [
              0.5555555555555556,
              "#d8576b"
             ],
             [
              0.6666666666666666,
              "#ed7953"
             ],
             [
              0.7777777777777778,
              "#fb9f3a"
             ],
             [
              0.8888888888888888,
              "#fdca26"
             ],
             [
              1,
              "#f0f921"
             ]
            ],
            "type": "contour"
           }
          ],
          "contourcarpet": [
           {
            "colorbar": {
             "outlinewidth": 0,
             "ticks": ""
            },
            "type": "contourcarpet"
           }
          ],
          "heatmap": [
           {
            "colorbar": {
             "outlinewidth": 0,
             "ticks": ""
            },
            "colorscale": [
             [
              0,
              "#0d0887"
             ],
             [
              0.1111111111111111,
              "#46039f"
             ],
             [
              0.2222222222222222,
              "#7201a8"
             ],
             [
              0.3333333333333333,
              "#9c179e"
             ],
             [
              0.4444444444444444,
              "#bd3786"
             ],
             [
              0.5555555555555556,
              "#d8576b"
             ],
             [
              0.6666666666666666,
              "#ed7953"
             ],
             [
              0.7777777777777778,
              "#fb9f3a"
             ],
             [
              0.8888888888888888,
              "#fdca26"
             ],
             [
              1,
              "#f0f921"
             ]
            ],
            "type": "heatmap"
           }
          ],
          "heatmapgl": [
           {
            "colorbar": {
             "outlinewidth": 0,
             "ticks": ""
            },
            "colorscale": [
             [
              0,
              "#0d0887"
             ],
             [
              0.1111111111111111,
              "#46039f"
             ],
             [
              0.2222222222222222,
              "#7201a8"
             ],
             [
              0.3333333333333333,
              "#9c179e"
             ],
             [
              0.4444444444444444,
              "#bd3786"
             ],
             [
              0.5555555555555556,
              "#d8576b"
             ],
             [
              0.6666666666666666,
              "#ed7953"
             ],
             [
              0.7777777777777778,
              "#fb9f3a"
             ],
             [
              0.8888888888888888,
              "#fdca26"
             ],
             [
              1,
              "#f0f921"
             ]
            ],
            "type": "heatmapgl"
           }
          ],
          "histogram": [
           {
            "marker": {
             "pattern": {
              "fillmode": "overlay",
              "size": 10,
              "solidity": 0.2
             }
            },
            "type": "histogram"
           }
          ],
          "histogram2d": [
           {
            "colorbar": {
             "outlinewidth": 0,
             "ticks": ""
            },
            "colorscale": [
             [
              0,
              "#0d0887"
             ],
             [
              0.1111111111111111,
              "#46039f"
             ],
             [
              0.2222222222222222,
              "#7201a8"
             ],
             [
              0.3333333333333333,
              "#9c179e"
             ],
             [
              0.4444444444444444,
              "#bd3786"
             ],
             [
              0.5555555555555556,
              "#d8576b"
             ],
             [
              0.6666666666666666,
              "#ed7953"
             ],
             [
              0.7777777777777778,
              "#fb9f3a"
             ],
             [
              0.8888888888888888,
              "#fdca26"
             ],
             [
              1,
              "#f0f921"
             ]
            ],
            "type": "histogram2d"
           }
          ],
          "histogram2dcontour": [
           {
            "colorbar": {
             "outlinewidth": 0,
             "ticks": ""
            },
            "colorscale": [
             [
              0,
              "#0d0887"
             ],
             [
              0.1111111111111111,
              "#46039f"
             ],
             [
              0.2222222222222222,
              "#7201a8"
             ],
             [
              0.3333333333333333,
              "#9c179e"
             ],
             [
              0.4444444444444444,
              "#bd3786"
             ],
             [
              0.5555555555555556,
              "#d8576b"
             ],
             [
              0.6666666666666666,
              "#ed7953"
             ],
             [
              0.7777777777777778,
              "#fb9f3a"
             ],
             [
              0.8888888888888888,
              "#fdca26"
             ],
             [
              1,
              "#f0f921"
             ]
            ],
            "type": "histogram2dcontour"
           }
          ],
          "mesh3d": [
           {
            "colorbar": {
             "outlinewidth": 0,
             "ticks": ""
            },
            "type": "mesh3d"
           }
          ],
          "parcoords": [
           {
            "line": {
             "colorbar": {
              "outlinewidth": 0,
              "ticks": ""
             }
            },
            "type": "parcoords"
           }
          ],
          "pie": [
           {
            "automargin": true,
            "type": "pie"
           }
          ],
          "scatter": [
           {
            "fillpattern": {
             "fillmode": "overlay",
             "size": 10,
             "solidity": 0.2
            },
            "type": "scatter"
           }
          ],
          "scatter3d": [
           {
            "line": {
             "colorbar": {
              "outlinewidth": 0,
              "ticks": ""
             }
            },
            "marker": {
             "colorbar": {
              "outlinewidth": 0,
              "ticks": ""
             }
            },
            "type": "scatter3d"
           }
          ],
          "scattercarpet": [
           {
            "marker": {
             "colorbar": {
              "outlinewidth": 0,
              "ticks": ""
             }
            },
            "type": "scattercarpet"
           }
          ],
          "scattergeo": [
           {
            "marker": {
             "colorbar": {
              "outlinewidth": 0,
              "ticks": ""
             }
            },
            "type": "scattergeo"
           }
          ],
          "scattergl": [
           {
            "marker": {
             "colorbar": {
              "outlinewidth": 0,
              "ticks": ""
             }
            },
            "type": "scattergl"
           }
          ],
          "scattermapbox": [
           {
            "marker": {
             "colorbar": {
              "outlinewidth": 0,
              "ticks": ""
             }
            },
            "type": "scattermapbox"
           }
          ],
          "scatterpolar": [
           {
            "marker": {
             "colorbar": {
              "outlinewidth": 0,
              "ticks": ""
             }
            },
            "type": "scatterpolar"
           }
          ],
          "scatterpolargl": [
           {
            "marker": {
             "colorbar": {
              "outlinewidth": 0,
              "ticks": ""
             }
            },
            "type": "scatterpolargl"
           }
          ],
          "scatterternary": [
           {
            "marker": {
             "colorbar": {
              "outlinewidth": 0,
              "ticks": ""
             }
            },
            "type": "scatterternary"
           }
          ],
          "surface": [
           {
            "colorbar": {
             "outlinewidth": 0,
             "ticks": ""
            },
            "colorscale": [
             [
              0,
              "#0d0887"
             ],
             [
              0.1111111111111111,
              "#46039f"
             ],
             [
              0.2222222222222222,
              "#7201a8"
             ],
             [
              0.3333333333333333,
              "#9c179e"
             ],
             [
              0.4444444444444444,
              "#bd3786"
             ],
             [
              0.5555555555555556,
              "#d8576b"
             ],
             [
              0.6666666666666666,
              "#ed7953"
             ],
             [
              0.7777777777777778,
              "#fb9f3a"
             ],
             [
              0.8888888888888888,
              "#fdca26"
             ],
             [
              1,
              "#f0f921"
             ]
            ],
            "type": "surface"
           }
          ],
          "table": [
           {
            "cells": {
             "fill": {
              "color": "#EBF0F8"
             },
             "line": {
              "color": "white"
             }
            },
            "header": {
             "fill": {
              "color": "#C8D4E3"
             },
             "line": {
              "color": "white"
             }
            },
            "type": "table"
           }
          ]
         },
         "layout": {
          "annotationdefaults": {
           "arrowcolor": "#2a3f5f",
           "arrowhead": 0,
           "arrowwidth": 1
          },
          "autotypenumbers": "strict",
          "coloraxis": {
           "colorbar": {
            "outlinewidth": 0,
            "ticks": ""
           }
          },
          "colorscale": {
           "diverging": [
            [
             0,
             "#8e0152"
            ],
            [
             0.1,
             "#c51b7d"
            ],
            [
             0.2,
             "#de77ae"
            ],
            [
             0.3,
             "#f1b6da"
            ],
            [
             0.4,
             "#fde0ef"
            ],
            [
             0.5,
             "#f7f7f7"
            ],
            [
             0.6,
             "#e6f5d0"
            ],
            [
             0.7,
             "#b8e186"
            ],
            [
             0.8,
             "#7fbc41"
            ],
            [
             0.9,
             "#4d9221"
            ],
            [
             1,
             "#276419"
            ]
           ],
           "sequential": [
            [
             0,
             "#0d0887"
            ],
            [
             0.1111111111111111,
             "#46039f"
            ],
            [
             0.2222222222222222,
             "#7201a8"
            ],
            [
             0.3333333333333333,
             "#9c179e"
            ],
            [
             0.4444444444444444,
             "#bd3786"
            ],
            [
             0.5555555555555556,
             "#d8576b"
            ],
            [
             0.6666666666666666,
             "#ed7953"
            ],
            [
             0.7777777777777778,
             "#fb9f3a"
            ],
            [
             0.8888888888888888,
             "#fdca26"
            ],
            [
             1,
             "#f0f921"
            ]
           ],
           "sequentialminus": [
            [
             0,
             "#0d0887"
            ],
            [
             0.1111111111111111,
             "#46039f"
            ],
            [
             0.2222222222222222,
             "#7201a8"
            ],
            [
             0.3333333333333333,
             "#9c179e"
            ],
            [
             0.4444444444444444,
             "#bd3786"
            ],
            [
             0.5555555555555556,
             "#d8576b"
            ],
            [
             0.6666666666666666,
             "#ed7953"
            ],
            [
             0.7777777777777778,
             "#fb9f3a"
            ],
            [
             0.8888888888888888,
             "#fdca26"
            ],
            [
             1,
             "#f0f921"
            ]
           ]
          },
          "colorway": [
           "#636efa",
           "#EF553B",
           "#00cc96",
           "#ab63fa",
           "#FFA15A",
           "#19d3f3",
           "#FF6692",
           "#B6E880",
           "#FF97FF",
           "#FECB52"
          ],
          "font": {
           "color": "#2a3f5f"
          },
          "geo": {
           "bgcolor": "white",
           "lakecolor": "white",
           "landcolor": "#E5ECF6",
           "showlakes": true,
           "showland": true,
           "subunitcolor": "white"
          },
          "hoverlabel": {
           "align": "left"
          },
          "hovermode": "closest",
          "mapbox": {
           "style": "light"
          },
          "paper_bgcolor": "white",
          "plot_bgcolor": "#E5ECF6",
          "polar": {
           "angularaxis": {
            "gridcolor": "white",
            "linecolor": "white",
            "ticks": ""
           },
           "bgcolor": "#E5ECF6",
           "radialaxis": {
            "gridcolor": "white",
            "linecolor": "white",
            "ticks": ""
           }
          },
          "scene": {
           "xaxis": {
            "backgroundcolor": "#E5ECF6",
            "gridcolor": "white",
            "gridwidth": 2,
            "linecolor": "white",
            "showbackground": true,
            "ticks": "",
            "zerolinecolor": "white"
           },
           "yaxis": {
            "backgroundcolor": "#E5ECF6",
            "gridcolor": "white",
            "gridwidth": 2,
            "linecolor": "white",
            "showbackground": true,
            "ticks": "",
            "zerolinecolor": "white"
           },
           "zaxis": {
            "backgroundcolor": "#E5ECF6",
            "gridcolor": "white",
            "gridwidth": 2,
            "linecolor": "white",
            "showbackground": true,
            "ticks": "",
            "zerolinecolor": "white"
           }
          },
          "shapedefaults": {
           "line": {
            "color": "#2a3f5f"
           }
          },
          "ternary": {
           "aaxis": {
            "gridcolor": "white",
            "linecolor": "white",
            "ticks": ""
           },
           "baxis": {
            "gridcolor": "white",
            "linecolor": "white",
            "ticks": ""
           },
           "bgcolor": "#E5ECF6",
           "caxis": {
            "gridcolor": "white",
            "linecolor": "white",
            "ticks": ""
           }
          },
          "title": {
           "x": 0.05
          },
          "xaxis": {
           "automargin": true,
           "gridcolor": "white",
           "linecolor": "white",
           "ticks": "",
           "title": {
            "standoff": 15
           },
           "zerolinecolor": "white",
           "zerolinewidth": 2
          },
          "yaxis": {
           "automargin": true,
           "gridcolor": "white",
           "linecolor": "white",
           "ticks": "",
           "title": {
            "standoff": 15
           },
           "zerolinecolor": "white",
           "zerolinewidth": 2
          }
         }
        },
        "xaxis": {
         "anchor": "y",
         "domain": [
          0,
          1
         ],
         "title": {
          "text": "index"
         }
        },
        "yaxis": {
         "anchor": "x",
         "domain": [
          0,
          1
         ],
         "title": {
          "text": "value"
         }
        }
       }
      },
      "text/html": [
       "<div>                            <div id=\"57837537-74c4-425d-8cc8-85b040ec4dfd\" class=\"plotly-graph-div\" style=\"height:525px; width:100%;\"></div>            <script type=\"text/javascript\">                require([\"plotly\"], function(Plotly) {                    window.PLOTLYENV=window.PLOTLYENV || {};                                    if (document.getElementById(\"57837537-74c4-425d-8cc8-85b040ec4dfd\")) {                    Plotly.newPlot(                        \"57837537-74c4-425d-8cc8-85b040ec4dfd\",                        [{\"alignmentgroup\":\"True\",\"hovertemplate\":\"variable=Composer<br>index=%{x}<br>value=%{y}<extra></extra>\",\"legendgroup\":\"Composer\",\"marker\":{\"color\":\"#636efa\",\"pattern\":{\"shape\":\"\"}},\"name\":\"Composer\",\"offsetgroup\":\"Composer\",\"orientation\":\"v\",\"showlegend\":true,\"textposition\":\"auto\",\"x\":[\"Philippe de Monte\",\"Alessandro Striggio\",\"Giaches de Wert\",\"Vincenzo Ugolini\",\"Ruggiero Giovannelli\",\"Luca Marenzio\",\"Tomaso Pecci\",\"Claudio Monteverdi\",\"Pomponio Nenna\",\"Giulio Bonagiunta\",\"Francis Pilkington\",\"David Sacerdote\",\"Philippe Verdelot\",\"Orlando di Lasso\",\"Jacob Regnart\",\"Martino Pesenti\",\"Christoph Demantius\",\"Hippolito Sabino\",\"Thomas Morley\",\"Nicholas Yonge\",\"Rinaldo del Mel\",\"Jacob Arcadelt\",\"Paolo Isnardi\",\"Benedetto Pallavicino\",\"Pietro Pace\",\"Santi Orlandi\",\"Cipriano de Rore\",\"Gabriello Puliti\",\"Francesco Portinaro\",\"Vincenzo Ruffo\"],\"xaxis\":\"x\",\"y\":[4,3,3,2,2,2,1,1,1,1,1,1,1,1,1,1,1,1,1,1,1,1,1,1,1,1,1,1,1,1],\"yaxis\":\"y\",\"type\":\"bar\"}],                        {\"template\":{\"data\":{\"histogram2dcontour\":[{\"type\":\"histogram2dcontour\",\"colorbar\":{\"outlinewidth\":0,\"ticks\":\"\"},\"colorscale\":[[0.0,\"#0d0887\"],[0.1111111111111111,\"#46039f\"],[0.2222222222222222,\"#7201a8\"],[0.3333333333333333,\"#9c179e\"],[0.4444444444444444,\"#bd3786\"],[0.5555555555555556,\"#d8576b\"],[0.6666666666666666,\"#ed7953\"],[0.7777777777777778,\"#fb9f3a\"],[0.8888888888888888,\"#fdca26\"],[1.0,\"#f0f921\"]]}],\"choropleth\":[{\"type\":\"choropleth\",\"colorbar\":{\"outlinewidth\":0,\"ticks\":\"\"}}],\"histogram2d\":[{\"type\":\"histogram2d\",\"colorbar\":{\"outlinewidth\":0,\"ticks\":\"\"},\"colorscale\":[[0.0,\"#0d0887\"],[0.1111111111111111,\"#46039f\"],[0.2222222222222222,\"#7201a8\"],[0.3333333333333333,\"#9c179e\"],[0.4444444444444444,\"#bd3786\"],[0.5555555555555556,\"#d8576b\"],[0.6666666666666666,\"#ed7953\"],[0.7777777777777778,\"#fb9f3a\"],[0.8888888888888888,\"#fdca26\"],[1.0,\"#f0f921\"]]}],\"heatmap\":[{\"type\":\"heatmap\",\"colorbar\":{\"outlinewidth\":0,\"ticks\":\"\"},\"colorscale\":[[0.0,\"#0d0887\"],[0.1111111111111111,\"#46039f\"],[0.2222222222222222,\"#7201a8\"],[0.3333333333333333,\"#9c179e\"],[0.4444444444444444,\"#bd3786\"],[0.5555555555555556,\"#d8576b\"],[0.6666666666666666,\"#ed7953\"],[0.7777777777777778,\"#fb9f3a\"],[0.8888888888888888,\"#fdca26\"],[1.0,\"#f0f921\"]]}],\"heatmapgl\":[{\"type\":\"heatmapgl\",\"colorbar\":{\"outlinewidth\":0,\"ticks\":\"\"},\"colorscale\":[[0.0,\"#0d0887\"],[0.1111111111111111,\"#46039f\"],[0.2222222222222222,\"#7201a8\"],[0.3333333333333333,\"#9c179e\"],[0.4444444444444444,\"#bd3786\"],[0.5555555555555556,\"#d8576b\"],[0.6666666666666666,\"#ed7953\"],[0.7777777777777778,\"#fb9f3a\"],[0.8888888888888888,\"#fdca26\"],[1.0,\"#f0f921\"]]}],\"contourcarpet\":[{\"type\":\"contourcarpet\",\"colorbar\":{\"outlinewidth\":0,\"ticks\":\"\"}}],\"contour\":[{\"type\":\"contour\",\"colorbar\":{\"outlinewidth\":0,\"ticks\":\"\"},\"colorscale\":[[0.0,\"#0d0887\"],[0.1111111111111111,\"#46039f\"],[0.2222222222222222,\"#7201a8\"],[0.3333333333333333,\"#9c179e\"],[0.4444444444444444,\"#bd3786\"],[0.5555555555555556,\"#d8576b\"],[0.6666666666666666,\"#ed7953\"],[0.7777777777777778,\"#fb9f3a\"],[0.8888888888888888,\"#fdca26\"],[1.0,\"#f0f921\"]]}],\"surface\":[{\"type\":\"surface\",\"colorbar\":{\"outlinewidth\":0,\"ticks\":\"\"},\"colorscale\":[[0.0,\"#0d0887\"],[0.1111111111111111,\"#46039f\"],[0.2222222222222222,\"#7201a8\"],[0.3333333333333333,\"#9c179e\"],[0.4444444444444444,\"#bd3786\"],[0.5555555555555556,\"#d8576b\"],[0.6666666666666666,\"#ed7953\"],[0.7777777777777778,\"#fb9f3a\"],[0.8888888888888888,\"#fdca26\"],[1.0,\"#f0f921\"]]}],\"mesh3d\":[{\"type\":\"mesh3d\",\"colorbar\":{\"outlinewidth\":0,\"ticks\":\"\"}}],\"scatter\":[{\"fillpattern\":{\"fillmode\":\"overlay\",\"size\":10,\"solidity\":0.2},\"type\":\"scatter\"}],\"parcoords\":[{\"type\":\"parcoords\",\"line\":{\"colorbar\":{\"outlinewidth\":0,\"ticks\":\"\"}}}],\"scatterpolargl\":[{\"type\":\"scatterpolargl\",\"marker\":{\"colorbar\":{\"outlinewidth\":0,\"ticks\":\"\"}}}],\"bar\":[{\"error_x\":{\"color\":\"#2a3f5f\"},\"error_y\":{\"color\":\"#2a3f5f\"},\"marker\":{\"line\":{\"color\":\"#E5ECF6\",\"width\":0.5},\"pattern\":{\"fillmode\":\"overlay\",\"size\":10,\"solidity\":0.2}},\"type\":\"bar\"}],\"scattergeo\":[{\"type\":\"scattergeo\",\"marker\":{\"colorbar\":{\"outlinewidth\":0,\"ticks\":\"\"}}}],\"scatterpolar\":[{\"type\":\"scatterpolar\",\"marker\":{\"colorbar\":{\"outlinewidth\":0,\"ticks\":\"\"}}}],\"histogram\":[{\"marker\":{\"pattern\":{\"fillmode\":\"overlay\",\"size\":10,\"solidity\":0.2}},\"type\":\"histogram\"}],\"scattergl\":[{\"type\":\"scattergl\",\"marker\":{\"colorbar\":{\"outlinewidth\":0,\"ticks\":\"\"}}}],\"scatter3d\":[{\"type\":\"scatter3d\",\"line\":{\"colorbar\":{\"outlinewidth\":0,\"ticks\":\"\"}},\"marker\":{\"colorbar\":{\"outlinewidth\":0,\"ticks\":\"\"}}}],\"scattermapbox\":[{\"type\":\"scattermapbox\",\"marker\":{\"colorbar\":{\"outlinewidth\":0,\"ticks\":\"\"}}}],\"scatterternary\":[{\"type\":\"scatterternary\",\"marker\":{\"colorbar\":{\"outlinewidth\":0,\"ticks\":\"\"}}}],\"scattercarpet\":[{\"type\":\"scattercarpet\",\"marker\":{\"colorbar\":{\"outlinewidth\":0,\"ticks\":\"\"}}}],\"carpet\":[{\"aaxis\":{\"endlinecolor\":\"#2a3f5f\",\"gridcolor\":\"white\",\"linecolor\":\"white\",\"minorgridcolor\":\"white\",\"startlinecolor\":\"#2a3f5f\"},\"baxis\":{\"endlinecolor\":\"#2a3f5f\",\"gridcolor\":\"white\",\"linecolor\":\"white\",\"minorgridcolor\":\"white\",\"startlinecolor\":\"#2a3f5f\"},\"type\":\"carpet\"}],\"table\":[{\"cells\":{\"fill\":{\"color\":\"#EBF0F8\"},\"line\":{\"color\":\"white\"}},\"header\":{\"fill\":{\"color\":\"#C8D4E3\"},\"line\":{\"color\":\"white\"}},\"type\":\"table\"}],\"barpolar\":[{\"marker\":{\"line\":{\"color\":\"#E5ECF6\",\"width\":0.5},\"pattern\":{\"fillmode\":\"overlay\",\"size\":10,\"solidity\":0.2}},\"type\":\"barpolar\"}],\"pie\":[{\"automargin\":true,\"type\":\"pie\"}]},\"layout\":{\"autotypenumbers\":\"strict\",\"colorway\":[\"#636efa\",\"#EF553B\",\"#00cc96\",\"#ab63fa\",\"#FFA15A\",\"#19d3f3\",\"#FF6692\",\"#B6E880\",\"#FF97FF\",\"#FECB52\"],\"font\":{\"color\":\"#2a3f5f\"},\"hovermode\":\"closest\",\"hoverlabel\":{\"align\":\"left\"},\"paper_bgcolor\":\"white\",\"plot_bgcolor\":\"#E5ECF6\",\"polar\":{\"bgcolor\":\"#E5ECF6\",\"angularaxis\":{\"gridcolor\":\"white\",\"linecolor\":\"white\",\"ticks\":\"\"},\"radialaxis\":{\"gridcolor\":\"white\",\"linecolor\":\"white\",\"ticks\":\"\"}},\"ternary\":{\"bgcolor\":\"#E5ECF6\",\"aaxis\":{\"gridcolor\":\"white\",\"linecolor\":\"white\",\"ticks\":\"\"},\"baxis\":{\"gridcolor\":\"white\",\"linecolor\":\"white\",\"ticks\":\"\"},\"caxis\":{\"gridcolor\":\"white\",\"linecolor\":\"white\",\"ticks\":\"\"}},\"coloraxis\":{\"colorbar\":{\"outlinewidth\":0,\"ticks\":\"\"}},\"colorscale\":{\"sequential\":[[0.0,\"#0d0887\"],[0.1111111111111111,\"#46039f\"],[0.2222222222222222,\"#7201a8\"],[0.3333333333333333,\"#9c179e\"],[0.4444444444444444,\"#bd3786\"],[0.5555555555555556,\"#d8576b\"],[0.6666666666666666,\"#ed7953\"],[0.7777777777777778,\"#fb9f3a\"],[0.8888888888888888,\"#fdca26\"],[1.0,\"#f0f921\"]],\"sequentialminus\":[[0.0,\"#0d0887\"],[0.1111111111111111,\"#46039f\"],[0.2222222222222222,\"#7201a8\"],[0.3333333333333333,\"#9c179e\"],[0.4444444444444444,\"#bd3786\"],[0.5555555555555556,\"#d8576b\"],[0.6666666666666666,\"#ed7953\"],[0.7777777777777778,\"#fb9f3a\"],[0.8888888888888888,\"#fdca26\"],[1.0,\"#f0f921\"]],\"diverging\":[[0,\"#8e0152\"],[0.1,\"#c51b7d\"],[0.2,\"#de77ae\"],[0.3,\"#f1b6da\"],[0.4,\"#fde0ef\"],[0.5,\"#f7f7f7\"],[0.6,\"#e6f5d0\"],[0.7,\"#b8e186\"],[0.8,\"#7fbc41\"],[0.9,\"#4d9221\"],[1,\"#276419\"]]},\"xaxis\":{\"gridcolor\":\"white\",\"linecolor\":\"white\",\"ticks\":\"\",\"title\":{\"standoff\":15},\"zerolinecolor\":\"white\",\"automargin\":true,\"zerolinewidth\":2},\"yaxis\":{\"gridcolor\":\"white\",\"linecolor\":\"white\",\"ticks\":\"\",\"title\":{\"standoff\":15},\"zerolinecolor\":\"white\",\"automargin\":true,\"zerolinewidth\":2},\"scene\":{\"xaxis\":{\"backgroundcolor\":\"#E5ECF6\",\"gridcolor\":\"white\",\"linecolor\":\"white\",\"showbackground\":true,\"ticks\":\"\",\"zerolinecolor\":\"white\",\"gridwidth\":2},\"yaxis\":{\"backgroundcolor\":\"#E5ECF6\",\"gridcolor\":\"white\",\"linecolor\":\"white\",\"showbackground\":true,\"ticks\":\"\",\"zerolinecolor\":\"white\",\"gridwidth\":2},\"zaxis\":{\"backgroundcolor\":\"#E5ECF6\",\"gridcolor\":\"white\",\"linecolor\":\"white\",\"showbackground\":true,\"ticks\":\"\",\"zerolinecolor\":\"white\",\"gridwidth\":2}},\"shapedefaults\":{\"line\":{\"color\":\"#2a3f5f\"}},\"annotationdefaults\":{\"arrowcolor\":\"#2a3f5f\",\"arrowhead\":0,\"arrowwidth\":1},\"geo\":{\"bgcolor\":\"white\",\"landcolor\":\"#E5ECF6\",\"subunitcolor\":\"white\",\"showland\":true,\"showlakes\":true,\"lakecolor\":\"white\"},\"title\":{\"x\":0.05},\"mapbox\":{\"style\":\"light\"}}},\"xaxis\":{\"anchor\":\"y\",\"domain\":[0.0,1.0],\"title\":{\"text\":\"index\"}},\"yaxis\":{\"anchor\":\"x\",\"domain\":[0.0,1.0],\"title\":{\"text\":\"value\"}},\"legend\":{\"title\":{\"text\":\"variable\"},\"tracegroupgap\":0},\"margin\":{\"t\":60},\"barmode\":\"relative\"},                        {\"responsive\": true}                    ).then(function(){\n",
       "                            \n",
       "var gd = document.getElementById('57837537-74c4-425d-8cc8-85b040ec4dfd');\n",
       "var x = new MutationObserver(function (mutations, observer) {{\n",
       "        var display = window.getComputedStyle(gd).display;\n",
       "        if (!display || display === 'none') {{\n",
       "            console.log([gd, 'removed!']);\n",
       "            Plotly.purge(gd);\n",
       "            observer.disconnect();\n",
       "        }}\n",
       "}});\n",
       "\n",
       "// Listen for the removal of the full notebook cells\n",
       "var notebookContainer = gd.closest('#notebook-container');\n",
       "if (notebookContainer) {{\n",
       "    x.observe(notebookContainer, {childList: true});\n",
       "}}\n",
       "\n",
       "// Listen for the clearing of the current output cell\n",
       "var outputEl = gd.closest('.output');\n",
       "if (outputEl) {{\n",
       "    x.observe(outputEl, {childList: true});\n",
       "}}\n",
       "\n",
       "                        })                };                });            </script>        </div>"
      ]
     },
     "metadata": {},
     "output_type": "display_data"
    }
   ],
   "source": [
    "px.bar(topp)\n"
   ]
  }
 ],
 "metadata": {
  "kernelspec": {
   "display_name": "Python 3 (ipykernel)",
   "language": "python",
   "name": "python3"
  },
  "language_info": {
   "codemirror_mode": {
    "name": "ipython",
    "version": 3
   },
   "file_extension": ".py",
   "mimetype": "text/x-python",
   "name": "python",
   "nbconvert_exporter": "python",
   "pygments_lexer": "ipython3",
   "version": "3.9.0"
  }
 },
 "nbformat": 4,
 "nbformat_minor": 5
}
